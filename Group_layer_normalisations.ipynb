{
  "nbformat": 4,
  "nbformat_minor": 0,
  "metadata": {
    "colab": {
      "name": "group/layer testing",
      "provenance": [],
      "collapsed_sections": []
    },
    "kernelspec": {
      "name": "python3",
      "display_name": "Python 3"
    },
    "language_info": {
      "name": "python"
    },
    "accelerator": "GPU",
    "widgets": {
      "application/vnd.jupyter.widget-state+json": {
        "14950113a16547829fce9078e5ab2695": {
          "model_module": "@jupyter-widgets/controls",
          "model_name": "HBoxModel",
          "model_module_version": "1.5.0",
          "state": {
            "_view_name": "HBoxView",
            "_dom_classes": [],
            "_model_name": "HBoxModel",
            "_view_module": "@jupyter-widgets/controls",
            "_model_module_version": "1.5.0",
            "_view_count": null,
            "_view_module_version": "1.5.0",
            "box_style": "",
            "layout": "IPY_MODEL_20dc92cb28484a138a087a976548894a",
            "_model_module": "@jupyter-widgets/controls",
            "children": [
              "IPY_MODEL_3ddb36b335b14e78ae1bac067cc6555e",
              "IPY_MODEL_4446ea53f1ed4e3283c714c414377898",
              "IPY_MODEL_f5a468e8d5ef407582afd29f8093410d"
            ]
          }
        },
        "20dc92cb28484a138a087a976548894a": {
          "model_module": "@jupyter-widgets/base",
          "model_name": "LayoutModel",
          "model_module_version": "1.2.0",
          "state": {
            "_view_name": "LayoutView",
            "grid_template_rows": null,
            "right": null,
            "justify_content": null,
            "_view_module": "@jupyter-widgets/base",
            "overflow": null,
            "_model_module_version": "1.2.0",
            "_view_count": null,
            "flex_flow": null,
            "width": null,
            "min_width": null,
            "border": null,
            "align_items": null,
            "bottom": null,
            "_model_module": "@jupyter-widgets/base",
            "top": null,
            "grid_column": null,
            "overflow_y": null,
            "overflow_x": null,
            "grid_auto_flow": null,
            "grid_area": null,
            "grid_template_columns": null,
            "flex": null,
            "_model_name": "LayoutModel",
            "justify_items": null,
            "grid_row": null,
            "max_height": null,
            "align_content": null,
            "visibility": null,
            "align_self": null,
            "height": null,
            "min_height": null,
            "padding": null,
            "grid_auto_rows": null,
            "grid_gap": null,
            "max_width": null,
            "order": null,
            "_view_module_version": "1.2.0",
            "grid_template_areas": null,
            "object_position": null,
            "object_fit": null,
            "grid_auto_columns": null,
            "margin": null,
            "display": null,
            "left": null
          }
        },
        "3ddb36b335b14e78ae1bac067cc6555e": {
          "model_module": "@jupyter-widgets/controls",
          "model_name": "HTMLModel",
          "model_module_version": "1.5.0",
          "state": {
            "_view_name": "HTMLView",
            "style": "IPY_MODEL_d4f164cea53d4fb2963a1ac7d45a9173",
            "_dom_classes": [],
            "description": "",
            "_model_name": "HTMLModel",
            "placeholder": "​",
            "_view_module": "@jupyter-widgets/controls",
            "_model_module_version": "1.5.0",
            "value": "",
            "_view_count": null,
            "_view_module_version": "1.5.0",
            "description_tooltip": null,
            "_model_module": "@jupyter-widgets/controls",
            "layout": "IPY_MODEL_1965a6cbb7e34812a4097d9b1791b513"
          }
        },
        "4446ea53f1ed4e3283c714c414377898": {
          "model_module": "@jupyter-widgets/controls",
          "model_name": "FloatProgressModel",
          "model_module_version": "1.5.0",
          "state": {
            "_view_name": "ProgressView",
            "style": "IPY_MODEL_6c755feeda2945559d514c12b85fb5ba",
            "_dom_classes": [],
            "description": "",
            "_model_name": "FloatProgressModel",
            "bar_style": "success",
            "max": 9912422,
            "_view_module": "@jupyter-widgets/controls",
            "_model_module_version": "1.5.0",
            "value": 9912422,
            "_view_count": null,
            "_view_module_version": "1.5.0",
            "orientation": "horizontal",
            "min": 0,
            "description_tooltip": null,
            "_model_module": "@jupyter-widgets/controls",
            "layout": "IPY_MODEL_64e907a8bb784946b26753df040e472d"
          }
        },
        "f5a468e8d5ef407582afd29f8093410d": {
          "model_module": "@jupyter-widgets/controls",
          "model_name": "HTMLModel",
          "model_module_version": "1.5.0",
          "state": {
            "_view_name": "HTMLView",
            "style": "IPY_MODEL_0c548f16ad67451d9040e101d0c70f86",
            "_dom_classes": [],
            "description": "",
            "_model_name": "HTMLModel",
            "placeholder": "​",
            "_view_module": "@jupyter-widgets/controls",
            "_model_module_version": "1.5.0",
            "value": " 9913344/? [00:00&lt;00:00, 42764536.23it/s]",
            "_view_count": null,
            "_view_module_version": "1.5.0",
            "description_tooltip": null,
            "_model_module": "@jupyter-widgets/controls",
            "layout": "IPY_MODEL_f46e8bb9ec5c41168574e80ebb29c50c"
          }
        },
        "d4f164cea53d4fb2963a1ac7d45a9173": {
          "model_module": "@jupyter-widgets/controls",
          "model_name": "DescriptionStyleModel",
          "model_module_version": "1.5.0",
          "state": {
            "_view_name": "StyleView",
            "_model_name": "DescriptionStyleModel",
            "description_width": "",
            "_view_module": "@jupyter-widgets/base",
            "_model_module_version": "1.5.0",
            "_view_count": null,
            "_view_module_version": "1.2.0",
            "_model_module": "@jupyter-widgets/controls"
          }
        },
        "1965a6cbb7e34812a4097d9b1791b513": {
          "model_module": "@jupyter-widgets/base",
          "model_name": "LayoutModel",
          "model_module_version": "1.2.0",
          "state": {
            "_view_name": "LayoutView",
            "grid_template_rows": null,
            "right": null,
            "justify_content": null,
            "_view_module": "@jupyter-widgets/base",
            "overflow": null,
            "_model_module_version": "1.2.0",
            "_view_count": null,
            "flex_flow": null,
            "width": null,
            "min_width": null,
            "border": null,
            "align_items": null,
            "bottom": null,
            "_model_module": "@jupyter-widgets/base",
            "top": null,
            "grid_column": null,
            "overflow_y": null,
            "overflow_x": null,
            "grid_auto_flow": null,
            "grid_area": null,
            "grid_template_columns": null,
            "flex": null,
            "_model_name": "LayoutModel",
            "justify_items": null,
            "grid_row": null,
            "max_height": null,
            "align_content": null,
            "visibility": null,
            "align_self": null,
            "height": null,
            "min_height": null,
            "padding": null,
            "grid_auto_rows": null,
            "grid_gap": null,
            "max_width": null,
            "order": null,
            "_view_module_version": "1.2.0",
            "grid_template_areas": null,
            "object_position": null,
            "object_fit": null,
            "grid_auto_columns": null,
            "margin": null,
            "display": null,
            "left": null
          }
        },
        "6c755feeda2945559d514c12b85fb5ba": {
          "model_module": "@jupyter-widgets/controls",
          "model_name": "ProgressStyleModel",
          "model_module_version": "1.5.0",
          "state": {
            "_view_name": "StyleView",
            "_model_name": "ProgressStyleModel",
            "description_width": "",
            "_view_module": "@jupyter-widgets/base",
            "_model_module_version": "1.5.0",
            "_view_count": null,
            "_view_module_version": "1.2.0",
            "bar_color": null,
            "_model_module": "@jupyter-widgets/controls"
          }
        },
        "64e907a8bb784946b26753df040e472d": {
          "model_module": "@jupyter-widgets/base",
          "model_name": "LayoutModel",
          "model_module_version": "1.2.0",
          "state": {
            "_view_name": "LayoutView",
            "grid_template_rows": null,
            "right": null,
            "justify_content": null,
            "_view_module": "@jupyter-widgets/base",
            "overflow": null,
            "_model_module_version": "1.2.0",
            "_view_count": null,
            "flex_flow": null,
            "width": null,
            "min_width": null,
            "border": null,
            "align_items": null,
            "bottom": null,
            "_model_module": "@jupyter-widgets/base",
            "top": null,
            "grid_column": null,
            "overflow_y": null,
            "overflow_x": null,
            "grid_auto_flow": null,
            "grid_area": null,
            "grid_template_columns": null,
            "flex": null,
            "_model_name": "LayoutModel",
            "justify_items": null,
            "grid_row": null,
            "max_height": null,
            "align_content": null,
            "visibility": null,
            "align_self": null,
            "height": null,
            "min_height": null,
            "padding": null,
            "grid_auto_rows": null,
            "grid_gap": null,
            "max_width": null,
            "order": null,
            "_view_module_version": "1.2.0",
            "grid_template_areas": null,
            "object_position": null,
            "object_fit": null,
            "grid_auto_columns": null,
            "margin": null,
            "display": null,
            "left": null
          }
        },
        "0c548f16ad67451d9040e101d0c70f86": {
          "model_module": "@jupyter-widgets/controls",
          "model_name": "DescriptionStyleModel",
          "model_module_version": "1.5.0",
          "state": {
            "_view_name": "StyleView",
            "_model_name": "DescriptionStyleModel",
            "description_width": "",
            "_view_module": "@jupyter-widgets/base",
            "_model_module_version": "1.5.0",
            "_view_count": null,
            "_view_module_version": "1.2.0",
            "_model_module": "@jupyter-widgets/controls"
          }
        },
        "f46e8bb9ec5c41168574e80ebb29c50c": {
          "model_module": "@jupyter-widgets/base",
          "model_name": "LayoutModel",
          "model_module_version": "1.2.0",
          "state": {
            "_view_name": "LayoutView",
            "grid_template_rows": null,
            "right": null,
            "justify_content": null,
            "_view_module": "@jupyter-widgets/base",
            "overflow": null,
            "_model_module_version": "1.2.0",
            "_view_count": null,
            "flex_flow": null,
            "width": null,
            "min_width": null,
            "border": null,
            "align_items": null,
            "bottom": null,
            "_model_module": "@jupyter-widgets/base",
            "top": null,
            "grid_column": null,
            "overflow_y": null,
            "overflow_x": null,
            "grid_auto_flow": null,
            "grid_area": null,
            "grid_template_columns": null,
            "flex": null,
            "_model_name": "LayoutModel",
            "justify_items": null,
            "grid_row": null,
            "max_height": null,
            "align_content": null,
            "visibility": null,
            "align_self": null,
            "height": null,
            "min_height": null,
            "padding": null,
            "grid_auto_rows": null,
            "grid_gap": null,
            "max_width": null,
            "order": null,
            "_view_module_version": "1.2.0",
            "grid_template_areas": null,
            "object_position": null,
            "object_fit": null,
            "grid_auto_columns": null,
            "margin": null,
            "display": null,
            "left": null
          }
        },
        "ca46889e72ee4e5dbd440f348e5e99db": {
          "model_module": "@jupyter-widgets/controls",
          "model_name": "HBoxModel",
          "model_module_version": "1.5.0",
          "state": {
            "_view_name": "HBoxView",
            "_dom_classes": [],
            "_model_name": "HBoxModel",
            "_view_module": "@jupyter-widgets/controls",
            "_model_module_version": "1.5.0",
            "_view_count": null,
            "_view_module_version": "1.5.0",
            "box_style": "",
            "layout": "IPY_MODEL_6e4b86ffd91c4ee4b7f78e49b2838315",
            "_model_module": "@jupyter-widgets/controls",
            "children": [
              "IPY_MODEL_cd8740194e17420fb6ff884d5ded0d39",
              "IPY_MODEL_09cb211f6d6b4e08adf7f7ee73a9157a",
              "IPY_MODEL_925fe45614c74f54975b3ce0e1ae9e86"
            ]
          }
        },
        "6e4b86ffd91c4ee4b7f78e49b2838315": {
          "model_module": "@jupyter-widgets/base",
          "model_name": "LayoutModel",
          "model_module_version": "1.2.0",
          "state": {
            "_view_name": "LayoutView",
            "grid_template_rows": null,
            "right": null,
            "justify_content": null,
            "_view_module": "@jupyter-widgets/base",
            "overflow": null,
            "_model_module_version": "1.2.0",
            "_view_count": null,
            "flex_flow": null,
            "width": null,
            "min_width": null,
            "border": null,
            "align_items": null,
            "bottom": null,
            "_model_module": "@jupyter-widgets/base",
            "top": null,
            "grid_column": null,
            "overflow_y": null,
            "overflow_x": null,
            "grid_auto_flow": null,
            "grid_area": null,
            "grid_template_columns": null,
            "flex": null,
            "_model_name": "LayoutModel",
            "justify_items": null,
            "grid_row": null,
            "max_height": null,
            "align_content": null,
            "visibility": null,
            "align_self": null,
            "height": null,
            "min_height": null,
            "padding": null,
            "grid_auto_rows": null,
            "grid_gap": null,
            "max_width": null,
            "order": null,
            "_view_module_version": "1.2.0",
            "grid_template_areas": null,
            "object_position": null,
            "object_fit": null,
            "grid_auto_columns": null,
            "margin": null,
            "display": null,
            "left": null
          }
        },
        "cd8740194e17420fb6ff884d5ded0d39": {
          "model_module": "@jupyter-widgets/controls",
          "model_name": "HTMLModel",
          "model_module_version": "1.5.0",
          "state": {
            "_view_name": "HTMLView",
            "style": "IPY_MODEL_2e071065a5ae4ea0ae4f2aff3d4199f1",
            "_dom_classes": [],
            "description": "",
            "_model_name": "HTMLModel",
            "placeholder": "​",
            "_view_module": "@jupyter-widgets/controls",
            "_model_module_version": "1.5.0",
            "value": "",
            "_view_count": null,
            "_view_module_version": "1.5.0",
            "description_tooltip": null,
            "_model_module": "@jupyter-widgets/controls",
            "layout": "IPY_MODEL_37b80753920945ada723f624c2770f95"
          }
        },
        "09cb211f6d6b4e08adf7f7ee73a9157a": {
          "model_module": "@jupyter-widgets/controls",
          "model_name": "FloatProgressModel",
          "model_module_version": "1.5.0",
          "state": {
            "_view_name": "ProgressView",
            "style": "IPY_MODEL_15c64fa5f8a94f71819ab3ab5eb269b4",
            "_dom_classes": [],
            "description": "",
            "_model_name": "FloatProgressModel",
            "bar_style": "success",
            "max": 28881,
            "_view_module": "@jupyter-widgets/controls",
            "_model_module_version": "1.5.0",
            "value": 28881,
            "_view_count": null,
            "_view_module_version": "1.5.0",
            "orientation": "horizontal",
            "min": 0,
            "description_tooltip": null,
            "_model_module": "@jupyter-widgets/controls",
            "layout": "IPY_MODEL_72d2a2179efb435e89b63236bda5a88d"
          }
        },
        "925fe45614c74f54975b3ce0e1ae9e86": {
          "model_module": "@jupyter-widgets/controls",
          "model_name": "HTMLModel",
          "model_module_version": "1.5.0",
          "state": {
            "_view_name": "HTMLView",
            "style": "IPY_MODEL_e096703ef3924e5c8b90667a80cafd82",
            "_dom_classes": [],
            "description": "",
            "_model_name": "HTMLModel",
            "placeholder": "​",
            "_view_module": "@jupyter-widgets/controls",
            "_model_module_version": "1.5.0",
            "value": " 29696/? [00:00&lt;00:00, 561638.69it/s]",
            "_view_count": null,
            "_view_module_version": "1.5.0",
            "description_tooltip": null,
            "_model_module": "@jupyter-widgets/controls",
            "layout": "IPY_MODEL_f50c03e0e1244523877ae34ae1d0aed0"
          }
        },
        "2e071065a5ae4ea0ae4f2aff3d4199f1": {
          "model_module": "@jupyter-widgets/controls",
          "model_name": "DescriptionStyleModel",
          "model_module_version": "1.5.0",
          "state": {
            "_view_name": "StyleView",
            "_model_name": "DescriptionStyleModel",
            "description_width": "",
            "_view_module": "@jupyter-widgets/base",
            "_model_module_version": "1.5.0",
            "_view_count": null,
            "_view_module_version": "1.2.0",
            "_model_module": "@jupyter-widgets/controls"
          }
        },
        "37b80753920945ada723f624c2770f95": {
          "model_module": "@jupyter-widgets/base",
          "model_name": "LayoutModel",
          "model_module_version": "1.2.0",
          "state": {
            "_view_name": "LayoutView",
            "grid_template_rows": null,
            "right": null,
            "justify_content": null,
            "_view_module": "@jupyter-widgets/base",
            "overflow": null,
            "_model_module_version": "1.2.0",
            "_view_count": null,
            "flex_flow": null,
            "width": null,
            "min_width": null,
            "border": null,
            "align_items": null,
            "bottom": null,
            "_model_module": "@jupyter-widgets/base",
            "top": null,
            "grid_column": null,
            "overflow_y": null,
            "overflow_x": null,
            "grid_auto_flow": null,
            "grid_area": null,
            "grid_template_columns": null,
            "flex": null,
            "_model_name": "LayoutModel",
            "justify_items": null,
            "grid_row": null,
            "max_height": null,
            "align_content": null,
            "visibility": null,
            "align_self": null,
            "height": null,
            "min_height": null,
            "padding": null,
            "grid_auto_rows": null,
            "grid_gap": null,
            "max_width": null,
            "order": null,
            "_view_module_version": "1.2.0",
            "grid_template_areas": null,
            "object_position": null,
            "object_fit": null,
            "grid_auto_columns": null,
            "margin": null,
            "display": null,
            "left": null
          }
        },
        "15c64fa5f8a94f71819ab3ab5eb269b4": {
          "model_module": "@jupyter-widgets/controls",
          "model_name": "ProgressStyleModel",
          "model_module_version": "1.5.0",
          "state": {
            "_view_name": "StyleView",
            "_model_name": "ProgressStyleModel",
            "description_width": "",
            "_view_module": "@jupyter-widgets/base",
            "_model_module_version": "1.5.0",
            "_view_count": null,
            "_view_module_version": "1.2.0",
            "bar_color": null,
            "_model_module": "@jupyter-widgets/controls"
          }
        },
        "72d2a2179efb435e89b63236bda5a88d": {
          "model_module": "@jupyter-widgets/base",
          "model_name": "LayoutModel",
          "model_module_version": "1.2.0",
          "state": {
            "_view_name": "LayoutView",
            "grid_template_rows": null,
            "right": null,
            "justify_content": null,
            "_view_module": "@jupyter-widgets/base",
            "overflow": null,
            "_model_module_version": "1.2.0",
            "_view_count": null,
            "flex_flow": null,
            "width": null,
            "min_width": null,
            "border": null,
            "align_items": null,
            "bottom": null,
            "_model_module": "@jupyter-widgets/base",
            "top": null,
            "grid_column": null,
            "overflow_y": null,
            "overflow_x": null,
            "grid_auto_flow": null,
            "grid_area": null,
            "grid_template_columns": null,
            "flex": null,
            "_model_name": "LayoutModel",
            "justify_items": null,
            "grid_row": null,
            "max_height": null,
            "align_content": null,
            "visibility": null,
            "align_self": null,
            "height": null,
            "min_height": null,
            "padding": null,
            "grid_auto_rows": null,
            "grid_gap": null,
            "max_width": null,
            "order": null,
            "_view_module_version": "1.2.0",
            "grid_template_areas": null,
            "object_position": null,
            "object_fit": null,
            "grid_auto_columns": null,
            "margin": null,
            "display": null,
            "left": null
          }
        },
        "e096703ef3924e5c8b90667a80cafd82": {
          "model_module": "@jupyter-widgets/controls",
          "model_name": "DescriptionStyleModel",
          "model_module_version": "1.5.0",
          "state": {
            "_view_name": "StyleView",
            "_model_name": "DescriptionStyleModel",
            "description_width": "",
            "_view_module": "@jupyter-widgets/base",
            "_model_module_version": "1.5.0",
            "_view_count": null,
            "_view_module_version": "1.2.0",
            "_model_module": "@jupyter-widgets/controls"
          }
        },
        "f50c03e0e1244523877ae34ae1d0aed0": {
          "model_module": "@jupyter-widgets/base",
          "model_name": "LayoutModel",
          "model_module_version": "1.2.0",
          "state": {
            "_view_name": "LayoutView",
            "grid_template_rows": null,
            "right": null,
            "justify_content": null,
            "_view_module": "@jupyter-widgets/base",
            "overflow": null,
            "_model_module_version": "1.2.0",
            "_view_count": null,
            "flex_flow": null,
            "width": null,
            "min_width": null,
            "border": null,
            "align_items": null,
            "bottom": null,
            "_model_module": "@jupyter-widgets/base",
            "top": null,
            "grid_column": null,
            "overflow_y": null,
            "overflow_x": null,
            "grid_auto_flow": null,
            "grid_area": null,
            "grid_template_columns": null,
            "flex": null,
            "_model_name": "LayoutModel",
            "justify_items": null,
            "grid_row": null,
            "max_height": null,
            "align_content": null,
            "visibility": null,
            "align_self": null,
            "height": null,
            "min_height": null,
            "padding": null,
            "grid_auto_rows": null,
            "grid_gap": null,
            "max_width": null,
            "order": null,
            "_view_module_version": "1.2.0",
            "grid_template_areas": null,
            "object_position": null,
            "object_fit": null,
            "grid_auto_columns": null,
            "margin": null,
            "display": null,
            "left": null
          }
        },
        "c3a2c9ebeae4442bb7814ecf70ea7cfa": {
          "model_module": "@jupyter-widgets/controls",
          "model_name": "HBoxModel",
          "model_module_version": "1.5.0",
          "state": {
            "_view_name": "HBoxView",
            "_dom_classes": [],
            "_model_name": "HBoxModel",
            "_view_module": "@jupyter-widgets/controls",
            "_model_module_version": "1.5.0",
            "_view_count": null,
            "_view_module_version": "1.5.0",
            "box_style": "",
            "layout": "IPY_MODEL_47495085051f4f2f8aa75c3e78cfdc21",
            "_model_module": "@jupyter-widgets/controls",
            "children": [
              "IPY_MODEL_568f5dd20f7c4770914a6c1bb5174d7b",
              "IPY_MODEL_9e7536f18a64470bb560cd2d314b155b",
              "IPY_MODEL_720f190c972a47948dd91a346a307a0f"
            ]
          }
        },
        "47495085051f4f2f8aa75c3e78cfdc21": {
          "model_module": "@jupyter-widgets/base",
          "model_name": "LayoutModel",
          "model_module_version": "1.2.0",
          "state": {
            "_view_name": "LayoutView",
            "grid_template_rows": null,
            "right": null,
            "justify_content": null,
            "_view_module": "@jupyter-widgets/base",
            "overflow": null,
            "_model_module_version": "1.2.0",
            "_view_count": null,
            "flex_flow": null,
            "width": null,
            "min_width": null,
            "border": null,
            "align_items": null,
            "bottom": null,
            "_model_module": "@jupyter-widgets/base",
            "top": null,
            "grid_column": null,
            "overflow_y": null,
            "overflow_x": null,
            "grid_auto_flow": null,
            "grid_area": null,
            "grid_template_columns": null,
            "flex": null,
            "_model_name": "LayoutModel",
            "justify_items": null,
            "grid_row": null,
            "max_height": null,
            "align_content": null,
            "visibility": null,
            "align_self": null,
            "height": null,
            "min_height": null,
            "padding": null,
            "grid_auto_rows": null,
            "grid_gap": null,
            "max_width": null,
            "order": null,
            "_view_module_version": "1.2.0",
            "grid_template_areas": null,
            "object_position": null,
            "object_fit": null,
            "grid_auto_columns": null,
            "margin": null,
            "display": null,
            "left": null
          }
        },
        "568f5dd20f7c4770914a6c1bb5174d7b": {
          "model_module": "@jupyter-widgets/controls",
          "model_name": "HTMLModel",
          "model_module_version": "1.5.0",
          "state": {
            "_view_name": "HTMLView",
            "style": "IPY_MODEL_ad700140331b4bb59ceee827029946ad",
            "_dom_classes": [],
            "description": "",
            "_model_name": "HTMLModel",
            "placeholder": "​",
            "_view_module": "@jupyter-widgets/controls",
            "_model_module_version": "1.5.0",
            "value": "",
            "_view_count": null,
            "_view_module_version": "1.5.0",
            "description_tooltip": null,
            "_model_module": "@jupyter-widgets/controls",
            "layout": "IPY_MODEL_fd35b250b9284645a94d1faa94540d0e"
          }
        },
        "9e7536f18a64470bb560cd2d314b155b": {
          "model_module": "@jupyter-widgets/controls",
          "model_name": "FloatProgressModel",
          "model_module_version": "1.5.0",
          "state": {
            "_view_name": "ProgressView",
            "style": "IPY_MODEL_15be2ca9af0248db8418952d20c4823e",
            "_dom_classes": [],
            "description": "",
            "_model_name": "FloatProgressModel",
            "bar_style": "success",
            "max": 1648877,
            "_view_module": "@jupyter-widgets/controls",
            "_model_module_version": "1.5.0",
            "value": 1648877,
            "_view_count": null,
            "_view_module_version": "1.5.0",
            "orientation": "horizontal",
            "min": 0,
            "description_tooltip": null,
            "_model_module": "@jupyter-widgets/controls",
            "layout": "IPY_MODEL_d31ee7d9ef5346ab8814e771bf77ff87"
          }
        },
        "720f190c972a47948dd91a346a307a0f": {
          "model_module": "@jupyter-widgets/controls",
          "model_name": "HTMLModel",
          "model_module_version": "1.5.0",
          "state": {
            "_view_name": "HTMLView",
            "style": "IPY_MODEL_09c6a63ee1c94afd8d710a292b4327ce",
            "_dom_classes": [],
            "description": "",
            "_model_name": "HTMLModel",
            "placeholder": "​",
            "_view_module": "@jupyter-widgets/controls",
            "_model_module_version": "1.5.0",
            "value": " 1649664/? [00:00&lt;00:00, 17185458.99it/s]",
            "_view_count": null,
            "_view_module_version": "1.5.0",
            "description_tooltip": null,
            "_model_module": "@jupyter-widgets/controls",
            "layout": "IPY_MODEL_84ad3583431b481184d3de1a5692a956"
          }
        },
        "ad700140331b4bb59ceee827029946ad": {
          "model_module": "@jupyter-widgets/controls",
          "model_name": "DescriptionStyleModel",
          "model_module_version": "1.5.0",
          "state": {
            "_view_name": "StyleView",
            "_model_name": "DescriptionStyleModel",
            "description_width": "",
            "_view_module": "@jupyter-widgets/base",
            "_model_module_version": "1.5.0",
            "_view_count": null,
            "_view_module_version": "1.2.0",
            "_model_module": "@jupyter-widgets/controls"
          }
        },
        "fd35b250b9284645a94d1faa94540d0e": {
          "model_module": "@jupyter-widgets/base",
          "model_name": "LayoutModel",
          "model_module_version": "1.2.0",
          "state": {
            "_view_name": "LayoutView",
            "grid_template_rows": null,
            "right": null,
            "justify_content": null,
            "_view_module": "@jupyter-widgets/base",
            "overflow": null,
            "_model_module_version": "1.2.0",
            "_view_count": null,
            "flex_flow": null,
            "width": null,
            "min_width": null,
            "border": null,
            "align_items": null,
            "bottom": null,
            "_model_module": "@jupyter-widgets/base",
            "top": null,
            "grid_column": null,
            "overflow_y": null,
            "overflow_x": null,
            "grid_auto_flow": null,
            "grid_area": null,
            "grid_template_columns": null,
            "flex": null,
            "_model_name": "LayoutModel",
            "justify_items": null,
            "grid_row": null,
            "max_height": null,
            "align_content": null,
            "visibility": null,
            "align_self": null,
            "height": null,
            "min_height": null,
            "padding": null,
            "grid_auto_rows": null,
            "grid_gap": null,
            "max_width": null,
            "order": null,
            "_view_module_version": "1.2.0",
            "grid_template_areas": null,
            "object_position": null,
            "object_fit": null,
            "grid_auto_columns": null,
            "margin": null,
            "display": null,
            "left": null
          }
        },
        "15be2ca9af0248db8418952d20c4823e": {
          "model_module": "@jupyter-widgets/controls",
          "model_name": "ProgressStyleModel",
          "model_module_version": "1.5.0",
          "state": {
            "_view_name": "StyleView",
            "_model_name": "ProgressStyleModel",
            "description_width": "",
            "_view_module": "@jupyter-widgets/base",
            "_model_module_version": "1.5.0",
            "_view_count": null,
            "_view_module_version": "1.2.0",
            "bar_color": null,
            "_model_module": "@jupyter-widgets/controls"
          }
        },
        "d31ee7d9ef5346ab8814e771bf77ff87": {
          "model_module": "@jupyter-widgets/base",
          "model_name": "LayoutModel",
          "model_module_version": "1.2.0",
          "state": {
            "_view_name": "LayoutView",
            "grid_template_rows": null,
            "right": null,
            "justify_content": null,
            "_view_module": "@jupyter-widgets/base",
            "overflow": null,
            "_model_module_version": "1.2.0",
            "_view_count": null,
            "flex_flow": null,
            "width": null,
            "min_width": null,
            "border": null,
            "align_items": null,
            "bottom": null,
            "_model_module": "@jupyter-widgets/base",
            "top": null,
            "grid_column": null,
            "overflow_y": null,
            "overflow_x": null,
            "grid_auto_flow": null,
            "grid_area": null,
            "grid_template_columns": null,
            "flex": null,
            "_model_name": "LayoutModel",
            "justify_items": null,
            "grid_row": null,
            "max_height": null,
            "align_content": null,
            "visibility": null,
            "align_self": null,
            "height": null,
            "min_height": null,
            "padding": null,
            "grid_auto_rows": null,
            "grid_gap": null,
            "max_width": null,
            "order": null,
            "_view_module_version": "1.2.0",
            "grid_template_areas": null,
            "object_position": null,
            "object_fit": null,
            "grid_auto_columns": null,
            "margin": null,
            "display": null,
            "left": null
          }
        },
        "09c6a63ee1c94afd8d710a292b4327ce": {
          "model_module": "@jupyter-widgets/controls",
          "model_name": "DescriptionStyleModel",
          "model_module_version": "1.5.0",
          "state": {
            "_view_name": "StyleView",
            "_model_name": "DescriptionStyleModel",
            "description_width": "",
            "_view_module": "@jupyter-widgets/base",
            "_model_module_version": "1.5.0",
            "_view_count": null,
            "_view_module_version": "1.2.0",
            "_model_module": "@jupyter-widgets/controls"
          }
        },
        "84ad3583431b481184d3de1a5692a956": {
          "model_module": "@jupyter-widgets/base",
          "model_name": "LayoutModel",
          "model_module_version": "1.2.0",
          "state": {
            "_view_name": "LayoutView",
            "grid_template_rows": null,
            "right": null,
            "justify_content": null,
            "_view_module": "@jupyter-widgets/base",
            "overflow": null,
            "_model_module_version": "1.2.0",
            "_view_count": null,
            "flex_flow": null,
            "width": null,
            "min_width": null,
            "border": null,
            "align_items": null,
            "bottom": null,
            "_model_module": "@jupyter-widgets/base",
            "top": null,
            "grid_column": null,
            "overflow_y": null,
            "overflow_x": null,
            "grid_auto_flow": null,
            "grid_area": null,
            "grid_template_columns": null,
            "flex": null,
            "_model_name": "LayoutModel",
            "justify_items": null,
            "grid_row": null,
            "max_height": null,
            "align_content": null,
            "visibility": null,
            "align_self": null,
            "height": null,
            "min_height": null,
            "padding": null,
            "grid_auto_rows": null,
            "grid_gap": null,
            "max_width": null,
            "order": null,
            "_view_module_version": "1.2.0",
            "grid_template_areas": null,
            "object_position": null,
            "object_fit": null,
            "grid_auto_columns": null,
            "margin": null,
            "display": null,
            "left": null
          }
        },
        "647ddc5a6497417a8aaf607e1423ebbf": {
          "model_module": "@jupyter-widgets/controls",
          "model_name": "HBoxModel",
          "model_module_version": "1.5.0",
          "state": {
            "_view_name": "HBoxView",
            "_dom_classes": [],
            "_model_name": "HBoxModel",
            "_view_module": "@jupyter-widgets/controls",
            "_model_module_version": "1.5.0",
            "_view_count": null,
            "_view_module_version": "1.5.0",
            "box_style": "",
            "layout": "IPY_MODEL_04845d71513840b6b721b83d1593f51f",
            "_model_module": "@jupyter-widgets/controls",
            "children": [
              "IPY_MODEL_bbf99f7f747a48899a26b6b021527b10",
              "IPY_MODEL_2c9022f1fc2d41f689238b87b925ca93",
              "IPY_MODEL_fec56e8a6bde48c0a2ef03ae0225642e"
            ]
          }
        },
        "04845d71513840b6b721b83d1593f51f": {
          "model_module": "@jupyter-widgets/base",
          "model_name": "LayoutModel",
          "model_module_version": "1.2.0",
          "state": {
            "_view_name": "LayoutView",
            "grid_template_rows": null,
            "right": null,
            "justify_content": null,
            "_view_module": "@jupyter-widgets/base",
            "overflow": null,
            "_model_module_version": "1.2.0",
            "_view_count": null,
            "flex_flow": null,
            "width": null,
            "min_width": null,
            "border": null,
            "align_items": null,
            "bottom": null,
            "_model_module": "@jupyter-widgets/base",
            "top": null,
            "grid_column": null,
            "overflow_y": null,
            "overflow_x": null,
            "grid_auto_flow": null,
            "grid_area": null,
            "grid_template_columns": null,
            "flex": null,
            "_model_name": "LayoutModel",
            "justify_items": null,
            "grid_row": null,
            "max_height": null,
            "align_content": null,
            "visibility": null,
            "align_self": null,
            "height": null,
            "min_height": null,
            "padding": null,
            "grid_auto_rows": null,
            "grid_gap": null,
            "max_width": null,
            "order": null,
            "_view_module_version": "1.2.0",
            "grid_template_areas": null,
            "object_position": null,
            "object_fit": null,
            "grid_auto_columns": null,
            "margin": null,
            "display": null,
            "left": null
          }
        },
        "bbf99f7f747a48899a26b6b021527b10": {
          "model_module": "@jupyter-widgets/controls",
          "model_name": "HTMLModel",
          "model_module_version": "1.5.0",
          "state": {
            "_view_name": "HTMLView",
            "style": "IPY_MODEL_5ebb14a675c44272b18815faa365be5f",
            "_dom_classes": [],
            "description": "",
            "_model_name": "HTMLModel",
            "placeholder": "​",
            "_view_module": "@jupyter-widgets/controls",
            "_model_module_version": "1.5.0",
            "value": "",
            "_view_count": null,
            "_view_module_version": "1.5.0",
            "description_tooltip": null,
            "_model_module": "@jupyter-widgets/controls",
            "layout": "IPY_MODEL_771ce12ecb8d428eb92626943959ae4d"
          }
        },
        "2c9022f1fc2d41f689238b87b925ca93": {
          "model_module": "@jupyter-widgets/controls",
          "model_name": "FloatProgressModel",
          "model_module_version": "1.5.0",
          "state": {
            "_view_name": "ProgressView",
            "style": "IPY_MODEL_7e904690e486459fb7ddb1826417845b",
            "_dom_classes": [],
            "description": "",
            "_model_name": "FloatProgressModel",
            "bar_style": "success",
            "max": 4542,
            "_view_module": "@jupyter-widgets/controls",
            "_model_module_version": "1.5.0",
            "value": 4542,
            "_view_count": null,
            "_view_module_version": "1.5.0",
            "orientation": "horizontal",
            "min": 0,
            "description_tooltip": null,
            "_model_module": "@jupyter-widgets/controls",
            "layout": "IPY_MODEL_ea65908a87ad43dd9e971fc899821fd3"
          }
        },
        "fec56e8a6bde48c0a2ef03ae0225642e": {
          "model_module": "@jupyter-widgets/controls",
          "model_name": "HTMLModel",
          "model_module_version": "1.5.0",
          "state": {
            "_view_name": "HTMLView",
            "style": "IPY_MODEL_2cb55764865c405ea89cce87bcb703fc",
            "_dom_classes": [],
            "description": "",
            "_model_name": "HTMLModel",
            "placeholder": "​",
            "_view_module": "@jupyter-widgets/controls",
            "_model_module_version": "1.5.0",
            "value": " 5120/? [00:00&lt;00:00, 116820.27it/s]",
            "_view_count": null,
            "_view_module_version": "1.5.0",
            "description_tooltip": null,
            "_model_module": "@jupyter-widgets/controls",
            "layout": "IPY_MODEL_f5d67c65afbb4225af41443715c59f8d"
          }
        },
        "5ebb14a675c44272b18815faa365be5f": {
          "model_module": "@jupyter-widgets/controls",
          "model_name": "DescriptionStyleModel",
          "model_module_version": "1.5.0",
          "state": {
            "_view_name": "StyleView",
            "_model_name": "DescriptionStyleModel",
            "description_width": "",
            "_view_module": "@jupyter-widgets/base",
            "_model_module_version": "1.5.0",
            "_view_count": null,
            "_view_module_version": "1.2.0",
            "_model_module": "@jupyter-widgets/controls"
          }
        },
        "771ce12ecb8d428eb92626943959ae4d": {
          "model_module": "@jupyter-widgets/base",
          "model_name": "LayoutModel",
          "model_module_version": "1.2.0",
          "state": {
            "_view_name": "LayoutView",
            "grid_template_rows": null,
            "right": null,
            "justify_content": null,
            "_view_module": "@jupyter-widgets/base",
            "overflow": null,
            "_model_module_version": "1.2.0",
            "_view_count": null,
            "flex_flow": null,
            "width": null,
            "min_width": null,
            "border": null,
            "align_items": null,
            "bottom": null,
            "_model_module": "@jupyter-widgets/base",
            "top": null,
            "grid_column": null,
            "overflow_y": null,
            "overflow_x": null,
            "grid_auto_flow": null,
            "grid_area": null,
            "grid_template_columns": null,
            "flex": null,
            "_model_name": "LayoutModel",
            "justify_items": null,
            "grid_row": null,
            "max_height": null,
            "align_content": null,
            "visibility": null,
            "align_self": null,
            "height": null,
            "min_height": null,
            "padding": null,
            "grid_auto_rows": null,
            "grid_gap": null,
            "max_width": null,
            "order": null,
            "_view_module_version": "1.2.0",
            "grid_template_areas": null,
            "object_position": null,
            "object_fit": null,
            "grid_auto_columns": null,
            "margin": null,
            "display": null,
            "left": null
          }
        },
        "7e904690e486459fb7ddb1826417845b": {
          "model_module": "@jupyter-widgets/controls",
          "model_name": "ProgressStyleModel",
          "model_module_version": "1.5.0",
          "state": {
            "_view_name": "StyleView",
            "_model_name": "ProgressStyleModel",
            "description_width": "",
            "_view_module": "@jupyter-widgets/base",
            "_model_module_version": "1.5.0",
            "_view_count": null,
            "_view_module_version": "1.2.0",
            "bar_color": null,
            "_model_module": "@jupyter-widgets/controls"
          }
        },
        "ea65908a87ad43dd9e971fc899821fd3": {
          "model_module": "@jupyter-widgets/base",
          "model_name": "LayoutModel",
          "model_module_version": "1.2.0",
          "state": {
            "_view_name": "LayoutView",
            "grid_template_rows": null,
            "right": null,
            "justify_content": null,
            "_view_module": "@jupyter-widgets/base",
            "overflow": null,
            "_model_module_version": "1.2.0",
            "_view_count": null,
            "flex_flow": null,
            "width": null,
            "min_width": null,
            "border": null,
            "align_items": null,
            "bottom": null,
            "_model_module": "@jupyter-widgets/base",
            "top": null,
            "grid_column": null,
            "overflow_y": null,
            "overflow_x": null,
            "grid_auto_flow": null,
            "grid_area": null,
            "grid_template_columns": null,
            "flex": null,
            "_model_name": "LayoutModel",
            "justify_items": null,
            "grid_row": null,
            "max_height": null,
            "align_content": null,
            "visibility": null,
            "align_self": null,
            "height": null,
            "min_height": null,
            "padding": null,
            "grid_auto_rows": null,
            "grid_gap": null,
            "max_width": null,
            "order": null,
            "_view_module_version": "1.2.0",
            "grid_template_areas": null,
            "object_position": null,
            "object_fit": null,
            "grid_auto_columns": null,
            "margin": null,
            "display": null,
            "left": null
          }
        },
        "2cb55764865c405ea89cce87bcb703fc": {
          "model_module": "@jupyter-widgets/controls",
          "model_name": "DescriptionStyleModel",
          "model_module_version": "1.5.0",
          "state": {
            "_view_name": "StyleView",
            "_model_name": "DescriptionStyleModel",
            "description_width": "",
            "_view_module": "@jupyter-widgets/base",
            "_model_module_version": "1.5.0",
            "_view_count": null,
            "_view_module_version": "1.2.0",
            "_model_module": "@jupyter-widgets/controls"
          }
        },
        "f5d67c65afbb4225af41443715c59f8d": {
          "model_module": "@jupyter-widgets/base",
          "model_name": "LayoutModel",
          "model_module_version": "1.2.0",
          "state": {
            "_view_name": "LayoutView",
            "grid_template_rows": null,
            "right": null,
            "justify_content": null,
            "_view_module": "@jupyter-widgets/base",
            "overflow": null,
            "_model_module_version": "1.2.0",
            "_view_count": null,
            "flex_flow": null,
            "width": null,
            "min_width": null,
            "border": null,
            "align_items": null,
            "bottom": null,
            "_model_module": "@jupyter-widgets/base",
            "top": null,
            "grid_column": null,
            "overflow_y": null,
            "overflow_x": null,
            "grid_auto_flow": null,
            "grid_area": null,
            "grid_template_columns": null,
            "flex": null,
            "_model_name": "LayoutModel",
            "justify_items": null,
            "grid_row": null,
            "max_height": null,
            "align_content": null,
            "visibility": null,
            "align_self": null,
            "height": null,
            "min_height": null,
            "padding": null,
            "grid_auto_rows": null,
            "grid_gap": null,
            "max_width": null,
            "order": null,
            "_view_module_version": "1.2.0",
            "grid_template_areas": null,
            "object_position": null,
            "object_fit": null,
            "grid_auto_columns": null,
            "margin": null,
            "display": null,
            "left": null
          }
        }
      }
    }
  },
  "cells": [
    {
      "cell_type": "code",
      "metadata": {
        "id": "Qyh2agj1icfB",
        "colab": {
          "base_uri": "https://localhost:8080/",
          "height": 466,
          "referenced_widgets": [
            "14950113a16547829fce9078e5ab2695",
            "20dc92cb28484a138a087a976548894a",
            "3ddb36b335b14e78ae1bac067cc6555e",
            "4446ea53f1ed4e3283c714c414377898",
            "f5a468e8d5ef407582afd29f8093410d",
            "d4f164cea53d4fb2963a1ac7d45a9173",
            "1965a6cbb7e34812a4097d9b1791b513",
            "6c755feeda2945559d514c12b85fb5ba",
            "64e907a8bb784946b26753df040e472d",
            "0c548f16ad67451d9040e101d0c70f86",
            "f46e8bb9ec5c41168574e80ebb29c50c",
            "ca46889e72ee4e5dbd440f348e5e99db",
            "6e4b86ffd91c4ee4b7f78e49b2838315",
            "cd8740194e17420fb6ff884d5ded0d39",
            "09cb211f6d6b4e08adf7f7ee73a9157a",
            "925fe45614c74f54975b3ce0e1ae9e86",
            "2e071065a5ae4ea0ae4f2aff3d4199f1",
            "37b80753920945ada723f624c2770f95",
            "15c64fa5f8a94f71819ab3ab5eb269b4",
            "72d2a2179efb435e89b63236bda5a88d",
            "e096703ef3924e5c8b90667a80cafd82",
            "f50c03e0e1244523877ae34ae1d0aed0",
            "c3a2c9ebeae4442bb7814ecf70ea7cfa",
            "47495085051f4f2f8aa75c3e78cfdc21",
            "568f5dd20f7c4770914a6c1bb5174d7b",
            "9e7536f18a64470bb560cd2d314b155b",
            "720f190c972a47948dd91a346a307a0f",
            "ad700140331b4bb59ceee827029946ad",
            "fd35b250b9284645a94d1faa94540d0e",
            "15be2ca9af0248db8418952d20c4823e",
            "d31ee7d9ef5346ab8814e771bf77ff87",
            "09c6a63ee1c94afd8d710a292b4327ce",
            "84ad3583431b481184d3de1a5692a956",
            "647ddc5a6497417a8aaf607e1423ebbf",
            "04845d71513840b6b721b83d1593f51f",
            "bbf99f7f747a48899a26b6b021527b10",
            "2c9022f1fc2d41f689238b87b925ca93",
            "fec56e8a6bde48c0a2ef03ae0225642e",
            "5ebb14a675c44272b18815faa365be5f",
            "771ce12ecb8d428eb92626943959ae4d",
            "7e904690e486459fb7ddb1826417845b",
            "ea65908a87ad43dd9e971fc899821fd3",
            "2cb55764865c405ea89cce87bcb703fc",
            "f5d67c65afbb4225af41443715c59f8d"
          ]
        },
        "outputId": "fc9abfcc-1b79-4a86-fd78-1f60bea18f1d"
      },
      "source": [
        "import torch\n",
        "import torch.optim as optim\n",
        "from train import train\n",
        "from test import test\n",
        "from dataloader import train_loader,test_loader\n",
        "from models import Net4\n",
        "import matplotlib.pyplot as plt"
      ],
      "execution_count": 1,
      "outputs": [
        {
          "output_type": "stream",
          "name": "stdout",
          "text": [
            "Downloading http://yann.lecun.com/exdb/mnist/train-images-idx3-ubyte.gz\n",
            "Downloading http://yann.lecun.com/exdb/mnist/train-images-idx3-ubyte.gz to ../data/MNIST/raw/train-images-idx3-ubyte.gz\n"
          ]
        },
        {
          "output_type": "display_data",
          "data": {
            "application/vnd.jupyter.widget-view+json": {
              "model_id": "14950113a16547829fce9078e5ab2695",
              "version_minor": 0,
              "version_major": 2
            },
            "text/plain": [
              "  0%|          | 0/9912422 [00:00<?, ?it/s]"
            ]
          },
          "metadata": {}
        },
        {
          "output_type": "stream",
          "name": "stdout",
          "text": [
            "Extracting ../data/MNIST/raw/train-images-idx3-ubyte.gz to ../data/MNIST/raw\n",
            "\n",
            "Downloading http://yann.lecun.com/exdb/mnist/train-labels-idx1-ubyte.gz\n",
            "Downloading http://yann.lecun.com/exdb/mnist/train-labels-idx1-ubyte.gz to ../data/MNIST/raw/train-labels-idx1-ubyte.gz\n"
          ]
        },
        {
          "output_type": "display_data",
          "data": {
            "application/vnd.jupyter.widget-view+json": {
              "model_id": "ca46889e72ee4e5dbd440f348e5e99db",
              "version_minor": 0,
              "version_major": 2
            },
            "text/plain": [
              "  0%|          | 0/28881 [00:00<?, ?it/s]"
            ]
          },
          "metadata": {}
        },
        {
          "output_type": "stream",
          "name": "stdout",
          "text": [
            "Extracting ../data/MNIST/raw/train-labels-idx1-ubyte.gz to ../data/MNIST/raw\n",
            "\n",
            "Downloading http://yann.lecun.com/exdb/mnist/t10k-images-idx3-ubyte.gz\n",
            "Downloading http://yann.lecun.com/exdb/mnist/t10k-images-idx3-ubyte.gz to ../data/MNIST/raw/t10k-images-idx3-ubyte.gz\n"
          ]
        },
        {
          "output_type": "display_data",
          "data": {
            "application/vnd.jupyter.widget-view+json": {
              "model_id": "c3a2c9ebeae4442bb7814ecf70ea7cfa",
              "version_minor": 0,
              "version_major": 2
            },
            "text/plain": [
              "  0%|          | 0/1648877 [00:00<?, ?it/s]"
            ]
          },
          "metadata": {}
        },
        {
          "output_type": "stream",
          "name": "stdout",
          "text": [
            "Extracting ../data/MNIST/raw/t10k-images-idx3-ubyte.gz to ../data/MNIST/raw\n",
            "\n",
            "Downloading http://yann.lecun.com/exdb/mnist/t10k-labels-idx1-ubyte.gz\n",
            "Downloading http://yann.lecun.com/exdb/mnist/t10k-labels-idx1-ubyte.gz to ../data/MNIST/raw/t10k-labels-idx1-ubyte.gz\n"
          ]
        },
        {
          "output_type": "display_data",
          "data": {
            "application/vnd.jupyter.widget-view+json": {
              "model_id": "647ddc5a6497417a8aaf607e1423ebbf",
              "version_minor": 0,
              "version_major": 2
            },
            "text/plain": [
              "  0%|          | 0/4542 [00:00<?, ?it/s]"
            ]
          },
          "metadata": {}
        },
        {
          "output_type": "stream",
          "name": "stdout",
          "text": [
            "Extracting ../data/MNIST/raw/t10k-labels-idx1-ubyte.gz to ../data/MNIST/raw\n",
            "\n"
          ]
        },
        {
          "output_type": "stream",
          "name": "stderr",
          "text": [
            "/usr/local/lib/python3.7/dist-packages/torchvision/datasets/mnist.py:498: UserWarning: The given NumPy array is not writeable, and PyTorch does not support non-writeable tensors. This means you can write to the underlying (supposedly non-writeable) NumPy array using the tensor. You may want to copy the array to protect its data or make it writeable before converting it to a tensor. This type of warning will be suppressed for the rest of this program. (Triggered internally at  /pytorch/torch/csrc/utils/tensor_numpy.cpp:180.)\n",
            "  return torch.from_numpy(parsed.astype(m[2], copy=False)).view(*s)\n"
          ]
        }
      ]
    },
    {
      "cell_type": "code",
      "metadata": {
        "id": "5WLVyEVqi_7v",
        "colab": {
          "base_uri": "https://localhost:8080/"
        },
        "outputId": "49e5c8e9-d75d-402a-a995-ea1c0a25dc90"
      },
      "source": [
        "use_cuda = torch.cuda.is_available()\n",
        "device = torch.device(\"cuda\" if use_cuda else \"cpu\")\n",
        "print(device)"
      ],
      "execution_count": 2,
      "outputs": [
        {
          "output_type": "stream",
          "name": "stdout",
          "text": [
            "cuda\n"
          ]
        }
      ]
    },
    {
      "cell_type": "code",
      "metadata": {
        "colab": {
          "base_uri": "https://localhost:8080/"
        },
        "id": "AjSnBtI8ZmD2",
        "outputId": "bb61c037-5ac5-4a3c-f539-d14895ea58fd"
      },
      "source": [
        "model = Net4('Layer',128).to(device)\n",
        "optimizer = optim.SGD(model.parameters(), lr=0.2, momentum=0.9)\n",
        "scheduler = optim.lr_scheduler.StepLR(optimizer,step_size = 4,gamma = 0.5,verbose = True) #0.2 0.1 0.05 0.025 0.0125\n",
        "\n",
        "train_accuracies = []\n",
        "train_losses = []\n",
        "test_accuracies = []\n",
        "test_losses = []\n",
        "\n",
        "for epoch in range(1, 21):\n",
        "\n",
        "    print(f\"Epoch {epoch}\")\n",
        "    scheduler.step()\n",
        "\n",
        "    x,y = train(model, device, train_loader, optimizer, epoch)\n",
        "    a,b = test(model, device, test_loader)\n",
        "\n",
        "    train_losses.append(x)\n",
        "    test_losses.append(a)\n",
        "    train_accuracies.append(y)\n",
        "    test_accuracies.append(b)"
      ],
      "execution_count": null,
      "outputs": [
        {
          "output_type": "stream",
          "name": "stderr",
          "text": [
            "/usr/local/lib/python3.7/dist-packages/torch/optim/lr_scheduler.py:134: UserWarning: Detected call of `lr_scheduler.step()` before `optimizer.step()`. In PyTorch 1.1.0 and later, you should call them in the opposite order: `optimizer.step()` before `lr_scheduler.step()`.  Failure to do this will result in PyTorch skipping the first value of the learning rate schedule. See more details at https://pytorch.org/docs/stable/optim.html#how-to-adjust-learning-rate\n",
            "  \"https://pytorch.org/docs/stable/optim.html#how-to-adjust-learning-rate\", UserWarning)\n"
          ]
        },
        {
          "output_type": "stream",
          "name": "stdout",
          "text": [
            "Adjusting learning rate of group 0 to 2.0000e-01.\n",
            "Epoch 1\n",
            "Adjusting learning rate of group 0 to 2.0000e-01.\n"
          ]
        },
        {
          "output_type": "stream",
          "name": "stderr",
          "text": [
            "\r  0%|          | 0/468 [00:00<?, ?it/s]/usr/local/lib/python3.7/dist-packages/torch/nn/functional.py:718: UserWarning: Named tensors and all their associated APIs are an experimental feature and subject to change. Please do not use them for anything important until they are released as stable. (Triggered internally at  /pytorch/c10/core/TensorImpl.h:1156.)\n",
            "  return torch.max_pool2d(input, kernel_size, stride, padding, dilation, ceil_mode)\n",
            "Loss=0.1702713817358017 Batch_id=467 Train Accuracy=82.94: 100%|██████████| 468/468 [00:30<00:00, 15.38it/s]\n"
          ]
        },
        {
          "output_type": "stream",
          "name": "stdout",
          "text": [
            "\n",
            "Test set: Average loss: 0.1648, Test Accuracy: 9475/10000 (94.75%)\n",
            "\n",
            "Epoch 2\n",
            "Adjusting learning rate of group 0 to 2.0000e-01.\n"
          ]
        },
        {
          "output_type": "stream",
          "name": "stderr",
          "text": [
            "Loss=0.10927974432706833 Batch_id=467 Train Accuracy=95.08: 100%|██████████| 468/468 [00:29<00:00, 15.65it/s]\n"
          ]
        },
        {
          "output_type": "stream",
          "name": "stdout",
          "text": [
            "\n",
            "Test set: Average loss: 0.0857, Test Accuracy: 9726/10000 (97.26%)\n",
            "\n",
            "Epoch 3\n",
            "Adjusting learning rate of group 0 to 2.0000e-01.\n"
          ]
        },
        {
          "output_type": "stream",
          "name": "stderr",
          "text": [
            "Loss=0.07213962078094482 Batch_id=467 Train Accuracy=97.01: 100%|██████████| 468/468 [00:29<00:00, 15.73it/s]\n"
          ]
        },
        {
          "output_type": "stream",
          "name": "stdout",
          "text": [
            "\n",
            "Test set: Average loss: 0.0659, Test Accuracy: 9793/10000 (97.93%)\n",
            "\n",
            "Epoch 4\n",
            "Adjusting learning rate of group 0 to 1.0000e-01.\n"
          ]
        },
        {
          "output_type": "stream",
          "name": "stderr",
          "text": [
            "Loss=0.06510906666517258 Batch_id=467 Train Accuracy=97.99: 100%|██████████| 468/468 [00:29<00:00, 15.63it/s]\n"
          ]
        },
        {
          "output_type": "stream",
          "name": "stdout",
          "text": [
            "\n",
            "Test set: Average loss: 0.0445, Test Accuracy: 9847/10000 (98.47%)\n",
            "\n",
            "Epoch 5\n",
            "Adjusting learning rate of group 0 to 1.0000e-01.\n"
          ]
        },
        {
          "output_type": "stream",
          "name": "stderr",
          "text": [
            "Loss=0.11843622475862503 Batch_id=467 Train Accuracy=98.17: 100%|██████████| 468/468 [00:30<00:00, 15.37it/s]\n"
          ]
        },
        {
          "output_type": "stream",
          "name": "stdout",
          "text": [
            "\n",
            "Test set: Average loss: 0.0449, Test Accuracy: 9843/10000 (98.43%)\n",
            "\n",
            "Epoch 6\n",
            "Adjusting learning rate of group 0 to 1.0000e-01.\n"
          ]
        },
        {
          "output_type": "stream",
          "name": "stderr",
          "text": [
            "Loss=0.0886840745806694 Batch_id=467 Train Accuracy=98.33: 100%|██████████| 468/468 [00:30<00:00, 15.27it/s]\n"
          ]
        },
        {
          "output_type": "stream",
          "name": "stdout",
          "text": [
            "\n",
            "Test set: Average loss: 0.0420, Test Accuracy: 9854/10000 (98.54%)\n",
            "\n",
            "Epoch 7\n",
            "Adjusting learning rate of group 0 to 1.0000e-01.\n"
          ]
        },
        {
          "output_type": "stream",
          "name": "stderr",
          "text": [
            "Loss=0.06545363366603851 Batch_id=467 Train Accuracy=98.41: 100%|██████████| 468/468 [00:30<00:00, 15.37it/s]\n"
          ]
        },
        {
          "output_type": "stream",
          "name": "stdout",
          "text": [
            "\n",
            "Test set: Average loss: 0.0384, Test Accuracy: 9868/10000 (98.68%)\n",
            "\n",
            "Epoch 8\n",
            "Adjusting learning rate of group 0 to 5.0000e-02.\n"
          ]
        },
        {
          "output_type": "stream",
          "name": "stderr",
          "text": [
            "Loss=0.06215885281562805 Batch_id=467 Train Accuracy=98.61: 100%|██████████| 468/468 [00:30<00:00, 15.55it/s]\n"
          ]
        },
        {
          "output_type": "stream",
          "name": "stdout",
          "text": [
            "\n",
            "Test set: Average loss: 0.0304, Test Accuracy: 9900/10000 (99.00%)\n",
            "\n",
            "Epoch 9\n",
            "Adjusting learning rate of group 0 to 5.0000e-02.\n"
          ]
        },
        {
          "output_type": "stream",
          "name": "stderr",
          "text": [
            "Loss=0.012971103191375732 Batch_id=467 Train Accuracy=98.65: 100%|██████████| 468/468 [00:30<00:00, 15.49it/s]\n"
          ]
        },
        {
          "output_type": "stream",
          "name": "stdout",
          "text": [
            "\n",
            "Test set: Average loss: 0.0324, Test Accuracy: 9882/10000 (98.82%)\n",
            "\n",
            "Epoch 10\n",
            "Adjusting learning rate of group 0 to 5.0000e-02.\n"
          ]
        },
        {
          "output_type": "stream",
          "name": "stderr",
          "text": [
            "Loss=0.07607870548963547 Batch_id=467 Train Accuracy=98.77: 100%|██████████| 468/468 [00:29<00:00, 15.69it/s]\n"
          ]
        },
        {
          "output_type": "stream",
          "name": "stdout",
          "text": [
            "\n",
            "Test set: Average loss: 0.0313, Test Accuracy: 9885/10000 (98.85%)\n",
            "\n",
            "Epoch 11\n",
            "Adjusting learning rate of group 0 to 5.0000e-02.\n"
          ]
        },
        {
          "output_type": "stream",
          "name": "stderr",
          "text": [
            "Loss=0.03939966857433319 Batch_id=467 Train Accuracy=98.76: 100%|██████████| 468/468 [00:30<00:00, 15.46it/s]\n"
          ]
        },
        {
          "output_type": "stream",
          "name": "stdout",
          "text": [
            "\n",
            "Test set: Average loss: 0.0279, Test Accuracy: 9900/10000 (99.00%)\n",
            "\n",
            "Epoch 12\n",
            "Adjusting learning rate of group 0 to 2.5000e-02.\n"
          ]
        },
        {
          "output_type": "stream",
          "name": "stderr",
          "text": [
            "Loss=0.03012709505856037 Batch_id=467 Train Accuracy=98.85: 100%|██████████| 468/468 [00:30<00:00, 15.44it/s]\n"
          ]
        },
        {
          "output_type": "stream",
          "name": "stdout",
          "text": [
            "\n",
            "Test set: Average loss: 0.0275, Test Accuracy: 9906/10000 (99.06%)\n",
            "\n",
            "Epoch 13\n",
            "Adjusting learning rate of group 0 to 2.5000e-02.\n"
          ]
        },
        {
          "output_type": "stream",
          "name": "stderr",
          "text": [
            "Loss=0.029231540858745575 Batch_id=467 Train Accuracy=98.89: 100%|██████████| 468/468 [00:29<00:00, 15.84it/s]\n"
          ]
        },
        {
          "output_type": "stream",
          "name": "stdout",
          "text": [
            "\n",
            "Test set: Average loss: 0.0288, Test Accuracy: 9901/10000 (99.01%)\n",
            "\n",
            "Epoch 14\n",
            "Adjusting learning rate of group 0 to 2.5000e-02.\n"
          ]
        },
        {
          "output_type": "stream",
          "name": "stderr",
          "text": [
            "Loss=0.02786794863641262 Batch_id=467 Train Accuracy=98.97: 100%|██████████| 468/468 [00:29<00:00, 15.77it/s]\n"
          ]
        },
        {
          "output_type": "stream",
          "name": "stdout",
          "text": [
            "\n",
            "Test set: Average loss: 0.0267, Test Accuracy: 9901/10000 (99.01%)\n",
            "\n",
            "Epoch 15\n",
            "Adjusting learning rate of group 0 to 2.5000e-02.\n"
          ]
        },
        {
          "output_type": "stream",
          "name": "stderr",
          "text": [
            "Loss=0.06141870468854904 Batch_id=467 Train Accuracy=98.93: 100%|██████████| 468/468 [00:29<00:00, 15.75it/s]\n"
          ]
        },
        {
          "output_type": "stream",
          "name": "stdout",
          "text": [
            "\n",
            "Test set: Average loss: 0.0267, Test Accuracy: 9907/10000 (99.07%)\n",
            "\n",
            "Epoch 16\n",
            "Adjusting learning rate of group 0 to 1.2500e-02.\n"
          ]
        },
        {
          "output_type": "stream",
          "name": "stderr",
          "text": [
            "Loss=0.013586055487394333 Batch_id=467 Train Accuracy=99.01: 100%|██████████| 468/468 [00:29<00:00, 15.68it/s]\n"
          ]
        },
        {
          "output_type": "stream",
          "name": "stdout",
          "text": [
            "\n",
            "Test set: Average loss: 0.0262, Test Accuracy: 9905/10000 (99.05%)\n",
            "\n",
            "Epoch 17\n",
            "Adjusting learning rate of group 0 to 1.2500e-02.\n"
          ]
        },
        {
          "output_type": "stream",
          "name": "stderr",
          "text": [
            "Loss=0.03689739480614662 Batch_id=467 Train Accuracy=98.97: 100%|██████████| 468/468 [00:29<00:00, 15.75it/s]\n"
          ]
        },
        {
          "output_type": "stream",
          "name": "stdout",
          "text": [
            "\n",
            "Test set: Average loss: 0.0248, Test Accuracy: 9909/10000 (99.09%)\n",
            "\n",
            "Epoch 18\n",
            "Adjusting learning rate of group 0 to 1.2500e-02.\n"
          ]
        },
        {
          "output_type": "stream",
          "name": "stderr",
          "text": [
            "Loss=0.01687239110469818 Batch_id=467 Train Accuracy=99.03: 100%|██████████| 468/468 [00:30<00:00, 15.58it/s]\n"
          ]
        },
        {
          "output_type": "stream",
          "name": "stdout",
          "text": [
            "\n",
            "Test set: Average loss: 0.0278, Test Accuracy: 9903/10000 (99.03%)\n",
            "\n",
            "Epoch 19\n",
            "Adjusting learning rate of group 0 to 1.2500e-02.\n"
          ]
        },
        {
          "output_type": "stream",
          "name": "stderr",
          "text": [
            "Loss=0.03293038159608841 Batch_id=467 Train Accuracy=99.09: 100%|██████████| 468/468 [00:29<00:00, 15.77it/s]\n"
          ]
        },
        {
          "output_type": "stream",
          "name": "stdout",
          "text": [
            "\n",
            "Test set: Average loss: 0.0257, Test Accuracy: 9908/10000 (99.08%)\n",
            "\n",
            "Epoch 20\n",
            "Adjusting learning rate of group 0 to 6.2500e-03.\n"
          ]
        },
        {
          "output_type": "stream",
          "name": "stderr",
          "text": [
            "Loss=0.005776651669293642 Batch_id=467 Train Accuracy=99.11: 100%|██████████| 468/468 [00:29<00:00, 15.71it/s]\n"
          ]
        },
        {
          "output_type": "stream",
          "name": "stdout",
          "text": [
            "\n",
            "Test set: Average loss: 0.0262, Test Accuracy: 9905/10000 (99.05%)\n",
            "\n"
          ]
        }
      ]
    },
    {
      "cell_type": "code",
      "metadata": {
        "id": "yUTta1CCyjEC"
      },
      "source": [
        "incorrect_examples = []\n",
        "incorrect_labels = []\n",
        "incorrect_pred = []\n",
        "model.eval()\n",
        "for data,target in test_loader:\n",
        "\n",
        "  data , target = data.to(device), target.to(device)\n",
        "  output = model(data) # shape = torch.Size([batch_size, 10])\n",
        "  pred = output.argmax(dim=1, keepdim=True) #pred will be a 2d tensor of shape [batch_size,1]\n",
        "  idxs_mask = ((pred == target.view_as(pred))==False).view(-1)\n",
        "  if idxs_mask.numel(): #if index masks is non-empty append the correspoding data value in incorrect examples\n",
        "    incorrect_examples.append(data[idxs_mask].squeeze().cpu().numpy())\n",
        "    incorrect_labels.append(target[idxs_mask].cpu().numpy()) #the corresponding target to the misclassified image\n",
        "    incorrect_pred.append(pred[idxs_mask].squeeze().cpu().numpy()) #the corresponiding predicted class of the misclassified image"
      ],
      "execution_count": null,
      "outputs": []
    },
    {
      "cell_type": "code",
      "metadata": {
        "id": "yS6mXdxTd9XK"
      },
      "source": [
        "ten_incorrect = [i for i in range(len(incorrect_examples)) if incorrect_examples[i].shape == (28,28)]\n",
        "\n",
        "imgs = [incorrect_examples[i] for i in ten_incorrect[:10]]\n",
        "labels = [incorrect_labels[i] for i in ten_incorrect[:10]]\n",
        "preds =  [incorrect_pred[i] for i in ten_incorrect[:10]]"
      ],
      "execution_count": null,
      "outputs": []
    },
    {
      "cell_type": "code",
      "metadata": {
        "colab": {
          "base_uri": "https://localhost:8080/",
          "height": 248
        },
        "id": "I2cMuJadD7fn",
        "outputId": "9205c78b-1362-4326-cb72-5690b04ff508"
      },
      "source": [
        "figure = plt.figure()\n",
        "num_of_images = 10\n",
        "for index in range(1, num_of_images + 1):\n",
        "    plt.subplot(5, 2, index)\n",
        "    plt.axis('off')\n",
        "    plt.imshow(imgs[index-1], cmap='gray')\n",
        "    import matplotlib.pyplot as plt\n",
        "\n",
        "# plt.imshow(incorrect_examples[83], interpolation='nearest',cmap = 'gray')\n",
        "# plt.show()"
      ],
      "execution_count": null,
      "outputs": [
        {
          "output_type": "display_data",
          "data": {
            "image/png": "[encoded data removed]",
            "text/plain": [
              "<Figure size 432x288 with 10 Axes>"
            ]
          },
          "metadata": {
            "needs_background": "light"
          }
        }
      ]
    },
    {
      "cell_type": "code",
      "metadata": {
        "colab": {
          "base_uri": "https://localhost:8080/",
          "height": 607
        },
        "id": "5Z_oL0Y7g-KV",
        "outputId": "589f1682-6fa2-40db-e357-925611d2ae3d"
      },
      "source": [
        "from utils import plot_curves\n",
        "from itertools import chain\n",
        "\n",
        "train_losses = list(chain.from_iterable(train_losses))\n",
        "test_losses = list(chain.from_iterable(test_losses))\n",
        "train_accuracies = list(chain.from_iterable(train_accuracies))\n",
        "test_accuracies = list(chain.from_iterable(test_accuracies))\n",
        "\n",
        "plot_curves(train_losses,test_losses,train_accuracies,test_accuracies)"
      ],
      "execution_count": null,
      "outputs": [
        {
          "output_type": "display_data",
          "data": {
            "image/png": "[encoded data removed]",
            "text/plain": [
              "<Figure size 1080x720 with 4 Axes>"
            ]
          },
          "metadata": {
            "needs_background": "light"
          }
        }
      ]
    },
    {
      "cell_type": "code",
      "metadata": {
        "colab": {
          "base_uri": "https://localhost:8080/"
        },
        "id": "mOqMp_HrL6sq",
        "outputId": "15511dc5-ed11-4b26-d647-02e785abc7c4"
      },
      "source": [
        "model = Net4('Group',128).to(device)\n",
        "optimizer = optim.SGD(model.parameters(), lr=0.2, momentum=0.9)\n",
        "scheduler = optim.lr_scheduler.StepLR(optimizer,step_size = 4,gamma = 0.5,verbose = True) #0.2 0.1 0.05 0.025 0.0125\n",
        "\n",
        "train_accuracies = []\n",
        "train_losses = []\n",
        "test_accuracies = []\n",
        "test_losses = []\n",
        "\n",
        "for epoch in range(1, 21):\n",
        "\n",
        "    print(f\"Epoch {epoch}\")\n",
        "    scheduler.step()\n",
        "\n",
        "    x,y = train(model, device, train_loader, optimizer, epoch)\n",
        "    a,b = test(model, device, test_loader)\n",
        "\n",
        "    train_losses.append(x)\n",
        "    test_losses.append(a)\n",
        "    train_accuracies.append(y)\n",
        "    test_accuracies.append(b)"
      ],
      "execution_count": null,
      "outputs": [
        {
          "output_type": "stream",
          "name": "stderr",
          "text": [
            "/usr/local/lib/python3.7/dist-packages/torch/optim/lr_scheduler.py:134: UserWarning: Detected call of `lr_scheduler.step()` before `optimizer.step()`. In PyTorch 1.1.0 and later, you should call them in the opposite order: `optimizer.step()` before `lr_scheduler.step()`.  Failure to do this will result in PyTorch skipping the first value of the learning rate schedule. See more details at https://pytorch.org/docs/stable/optim.html#how-to-adjust-learning-rate\n",
            "  \"https://pytorch.org/docs/stable/optim.html#how-to-adjust-learning-rate\", UserWarning)\n"
          ]
        },
        {
          "output_type": "stream",
          "name": "stdout",
          "text": [
            "Adjusting learning rate of group 0 to 2.0000e-01.\n",
            "Epoch 1\n",
            "Adjusting learning rate of group 0 to 2.0000e-01.\n"
          ]
        },
        {
          "output_type": "stream",
          "name": "stderr",
          "text": [
            "Loss=0.03348347172141075 Batch_id=467 Train Accuracy=89.41: 100%|██████████| 468/468 [00:27<00:00, 17.32it/s]\n"
          ]
        },
        {
          "output_type": "stream",
          "name": "stdout",
          "text": [
            "\n",
            "Test set: Average loss: 0.0780, Test Accuracy: 9729/10000 (97.29%)\n",
            "\n",
            "Epoch 2\n",
            "Adjusting learning rate of group 0 to 2.0000e-01.\n"
          ]
        },
        {
          "output_type": "stream",
          "name": "stderr",
          "text": [
            "Loss=0.0585259273648262 Batch_id=467 Train Accuracy=97.01: 100%|██████████| 468/468 [00:26<00:00, 17.54it/s]\n"
          ]
        },
        {
          "output_type": "stream",
          "name": "stdout",
          "text": [
            "\n",
            "Test set: Average loss: 0.0545, Test Accuracy: 9822/10000 (98.22%)\n",
            "\n",
            "Epoch 3\n",
            "Adjusting learning rate of group 0 to 2.0000e-01.\n"
          ]
        },
        {
          "output_type": "stream",
          "name": "stderr",
          "text": [
            "Loss=0.03581521660089493 Batch_id=467 Train Accuracy=97.86: 100%|██████████| 468/468 [00:26<00:00, 17.37it/s]\n"
          ]
        },
        {
          "output_type": "stream",
          "name": "stdout",
          "text": [
            "\n",
            "Test set: Average loss: 0.0373, Test Accuracy: 9869/10000 (98.69%)\n",
            "\n",
            "Epoch 4\n",
            "Adjusting learning rate of group 0 to 1.0000e-01.\n"
          ]
        },
        {
          "output_type": "stream",
          "name": "stderr",
          "text": [
            "Loss=0.014282966032624245 Batch_id=467 Train Accuracy=98.55: 100%|██████████| 468/468 [00:27<00:00, 17.28it/s]\n"
          ]
        },
        {
          "output_type": "stream",
          "name": "stdout",
          "text": [
            "\n",
            "Test set: Average loss: 0.0328, Test Accuracy: 9884/10000 (98.84%)\n",
            "\n",
            "Epoch 5\n",
            "Adjusting learning rate of group 0 to 1.0000e-01.\n"
          ]
        },
        {
          "output_type": "stream",
          "name": "stderr",
          "text": [
            "Loss=0.05844584479928017 Batch_id=467 Train Accuracy=98.65: 100%|██████████| 468/468 [00:26<00:00, 17.43it/s]\n"
          ]
        },
        {
          "output_type": "stream",
          "name": "stdout",
          "text": [
            "\n",
            "Test set: Average loss: 0.0343, Test Accuracy: 9870/10000 (98.70%)\n",
            "\n",
            "Epoch 6\n",
            "Adjusting learning rate of group 0 to 1.0000e-01.\n"
          ]
        },
        {
          "output_type": "stream",
          "name": "stderr",
          "text": [
            "Loss=0.01570506952702999 Batch_id=467 Train Accuracy=98.80: 100%|██████████| 468/468 [00:26<00:00, 17.50it/s]\n"
          ]
        },
        {
          "output_type": "stream",
          "name": "stdout",
          "text": [
            "\n",
            "Test set: Average loss: 0.0293, Test Accuracy: 9883/10000 (98.83%)\n",
            "\n",
            "Epoch 7\n",
            "Adjusting learning rate of group 0 to 1.0000e-01.\n"
          ]
        },
        {
          "output_type": "stream",
          "name": "stderr",
          "text": [
            "Loss=0.0516461543738842 Batch_id=467 Train Accuracy=98.82: 100%|██████████| 468/468 [00:26<00:00, 17.51it/s]\n"
          ]
        },
        {
          "output_type": "stream",
          "name": "stdout",
          "text": [
            "\n",
            "Test set: Average loss: 0.0300, Test Accuracy: 9888/10000 (98.88%)\n",
            "\n",
            "Epoch 8\n",
            "Adjusting learning rate of group 0 to 5.0000e-02.\n"
          ]
        },
        {
          "output_type": "stream",
          "name": "stderr",
          "text": [
            "Loss=0.011398573406040668 Batch_id=467 Train Accuracy=99.10: 100%|██████████| 468/468 [00:26<00:00, 17.39it/s]\n"
          ]
        },
        {
          "output_type": "stream",
          "name": "stdout",
          "text": [
            "\n",
            "Test set: Average loss: 0.0248, Test Accuracy: 9905/10000 (99.05%)\n",
            "\n",
            "Epoch 9\n",
            "Adjusting learning rate of group 0 to 5.0000e-02.\n"
          ]
        },
        {
          "output_type": "stream",
          "name": "stderr",
          "text": [
            "Loss=0.044260505586862564 Batch_id=467 Train Accuracy=99.16: 100%|██████████| 468/468 [00:26<00:00, 17.54it/s]\n"
          ]
        },
        {
          "output_type": "stream",
          "name": "stdout",
          "text": [
            "\n",
            "Test set: Average loss: 0.0269, Test Accuracy: 9885/10000 (98.85%)\n",
            "\n",
            "Epoch 10\n",
            "Adjusting learning rate of group 0 to 5.0000e-02.\n"
          ]
        },
        {
          "output_type": "stream",
          "name": "stderr",
          "text": [
            "Loss=0.027318106964230537 Batch_id=467 Train Accuracy=99.09: 100%|██████████| 468/468 [00:26<00:00, 17.53it/s]\n"
          ]
        },
        {
          "output_type": "stream",
          "name": "stdout",
          "text": [
            "\n",
            "Test set: Average loss: 0.0246, Test Accuracy: 9905/10000 (99.05%)\n",
            "\n",
            "Epoch 11\n",
            "Adjusting learning rate of group 0 to 5.0000e-02.\n"
          ]
        },
        {
          "output_type": "stream",
          "name": "stderr",
          "text": [
            "Loss=0.014599237591028214 Batch_id=467 Train Accuracy=99.15: 100%|██████████| 468/468 [00:26<00:00, 17.58it/s]\n"
          ]
        },
        {
          "output_type": "stream",
          "name": "stdout",
          "text": [
            "\n",
            "Test set: Average loss: 0.0264, Test Accuracy: 9892/10000 (98.92%)\n",
            "\n",
            "Epoch 12\n",
            "Adjusting learning rate of group 0 to 2.5000e-02.\n"
          ]
        },
        {
          "output_type": "stream",
          "name": "stderr",
          "text": [
            "Loss=0.04980379715561867 Batch_id=467 Train Accuracy=99.25: 100%|██████████| 468/468 [00:26<00:00, 17.97it/s]\n"
          ]
        },
        {
          "output_type": "stream",
          "name": "stdout",
          "text": [
            "\n",
            "Test set: Average loss: 0.0232, Test Accuracy: 9902/10000 (99.02%)\n",
            "\n",
            "Epoch 13\n",
            "Adjusting learning rate of group 0 to 2.5000e-02.\n"
          ]
        },
        {
          "output_type": "stream",
          "name": "stderr",
          "text": [
            "Loss=0.011301611550152302 Batch_id=467 Train Accuracy=99.27: 100%|██████████| 468/468 [00:26<00:00, 17.50it/s]\n"
          ]
        },
        {
          "output_type": "stream",
          "name": "stdout",
          "text": [
            "\n",
            "Test set: Average loss: 0.0239, Test Accuracy: 9902/10000 (99.02%)\n",
            "\n",
            "Epoch 14\n",
            "Adjusting learning rate of group 0 to 2.5000e-02.\n"
          ]
        },
        {
          "output_type": "stream",
          "name": "stderr",
          "text": [
            "Loss=0.010720692574977875 Batch_id=467 Train Accuracy=99.30: 100%|██████████| 468/468 [00:26<00:00, 17.60it/s]\n"
          ]
        },
        {
          "output_type": "stream",
          "name": "stdout",
          "text": [
            "\n",
            "Test set: Average loss: 0.0223, Test Accuracy: 9902/10000 (99.02%)\n",
            "\n",
            "Epoch 15\n",
            "Adjusting learning rate of group 0 to 2.5000e-02.\n"
          ]
        },
        {
          "output_type": "stream",
          "name": "stderr",
          "text": [
            "Loss=0.004800461698323488 Batch_id=467 Train Accuracy=99.32: 100%|██████████| 468/468 [00:26<00:00, 17.40it/s]\n"
          ]
        },
        {
          "output_type": "stream",
          "name": "stdout",
          "text": [
            "\n",
            "Test set: Average loss: 0.0230, Test Accuracy: 9910/10000 (99.10%)\n",
            "\n",
            "Epoch 16\n",
            "Adjusting learning rate of group 0 to 1.2500e-02.\n"
          ]
        },
        {
          "output_type": "stream",
          "name": "stderr",
          "text": [
            "Loss=0.021789753809571266 Batch_id=467 Train Accuracy=99.37: 100%|██████████| 468/468 [00:26<00:00, 17.65it/s]\n"
          ]
        },
        {
          "output_type": "stream",
          "name": "stdout",
          "text": [
            "\n",
            "Test set: Average loss: 0.0228, Test Accuracy: 9908/10000 (99.08%)\n",
            "\n",
            "Epoch 17\n",
            "Adjusting learning rate of group 0 to 1.2500e-02.\n"
          ]
        },
        {
          "output_type": "stream",
          "name": "stderr",
          "text": [
            "Loss=0.008395648561418056 Batch_id=467 Train Accuracy=99.43: 100%|██████████| 468/468 [00:26<00:00, 17.39it/s]\n"
          ]
        },
        {
          "output_type": "stream",
          "name": "stdout",
          "text": [
            "\n",
            "Test set: Average loss: 0.0241, Test Accuracy: 9901/10000 (99.01%)\n",
            "\n",
            "Epoch 18\n",
            "Adjusting learning rate of group 0 to 1.2500e-02.\n"
          ]
        },
        {
          "output_type": "stream",
          "name": "stderr",
          "text": [
            "Loss=0.0026417402550578117 Batch_id=467 Train Accuracy=99.38: 100%|██████████| 468/468 [00:26<00:00, 17.68it/s]\n"
          ]
        },
        {
          "output_type": "stream",
          "name": "stdout",
          "text": [
            "\n",
            "Test set: Average loss: 0.0233, Test Accuracy: 9904/10000 (99.04%)\n",
            "\n",
            "Epoch 19\n",
            "Adjusting learning rate of group 0 to 1.2500e-02.\n"
          ]
        },
        {
          "output_type": "stream",
          "name": "stderr",
          "text": [
            "Loss=0.006293401122093201 Batch_id=467 Train Accuracy=99.41: 100%|██████████| 468/468 [00:26<00:00, 17.68it/s]\n"
          ]
        },
        {
          "output_type": "stream",
          "name": "stdout",
          "text": [
            "\n",
            "Test set: Average loss: 0.0232, Test Accuracy: 9903/10000 (99.03%)\n",
            "\n",
            "Epoch 20\n",
            "Adjusting learning rate of group 0 to 6.2500e-03.\n"
          ]
        },
        {
          "output_type": "stream",
          "name": "stderr",
          "text": [
            "Loss=0.0010377502767369151 Batch_id=467 Train Accuracy=99.45: 100%|██████████| 468/468 [00:26<00:00, 17.87it/s]\n"
          ]
        },
        {
          "output_type": "stream",
          "name": "stdout",
          "text": [
            "\n",
            "Test set: Average loss: 0.0225, Test Accuracy: 9909/10000 (99.09%)\n",
            "\n"
          ]
        }
      ]
    },
    {
      "cell_type": "code",
      "metadata": {
        "id": "IPRKQsejMzNf"
      },
      "source": [
        "incorrect_examples = []\n",
        "incorrect_labels = []\n",
        "incorrect_pred = []\n",
        "model.eval()\n",
        "for data,target in test_loader:\n",
        "\n",
        "  data , target = data.to(device), target.to(device)\n",
        "  output = model(data) # shape = torch.Size([batch_size, 10])\n",
        "  pred = output.argmax(dim=1, keepdim=True) #pred will be a 2d tensor of shape [batch_size,1]\n",
        "  idxs_mask = ((pred == target.view_as(pred))==False).view(-1)\n",
        "  if idxs_mask.numel(): #if index masks is non-empty append the correspoding data value in incorrect examples\n",
        "    incorrect_examples.append(data[idxs_mask].squeeze().cpu().numpy())\n",
        "    incorrect_labels.append(target[idxs_mask].cpu().numpy()) #the corresponding target to the misclassified image\n",
        "    incorrect_pred.append(pred[idxs_mask].squeeze().cpu().numpy()) #the corresponiding predicted class of the misclassified image"
      ],
      "execution_count": null,
      "outputs": []
    },
    {
      "cell_type": "code",
      "metadata": {
        "id": "h_4blXa2iX48"
      },
      "source": [
        "ten_incorrect = [i for i in range(len(incorrect_examples)) if incorrect_examples[i].shape == (28,28)]\n",
        "\n",
        "imgs_g = [incorrect_examples[i] for i in ten_incorrect[:10]]\n",
        "labels_g = [incorrect_labels[i] for i in ten_incorrect[:10]]\n",
        "preds_g =  [incorrect_pred[i] for i in ten_incorrect[:10]]"
      ],
      "execution_count": null,
      "outputs": []
    },
    {
      "cell_type": "code",
      "metadata": {
        "colab": {
          "base_uri": "https://localhost:8080/",
          "height": 248
        },
        "id": "L7xmdhW_ia1C",
        "outputId": "d577930a-4e52-4c81-c284-392b5b2a50d8"
      },
      "source": [
        "figure = plt.figure()\n",
        "num_of_images = 10\n",
        "for index in range(1, num_of_images + 1):\n",
        "    plt.subplot(5, 2, index)\n",
        "    plt.axis('off')\n",
        "    plt.imshow(imgs_g[index-1], cmap='gray')\n",
        "    \n",
        "\n",
        "# plt.imshow(incorrect_examples[83], interpolation='nearest',cmap = 'gray')\n",
        "# plt.show()"
      ],
      "execution_count": null,
      "outputs": [
        {
          "output_type": "display_data",
          "data": {
            "image/png": "[encoded data removed]",
            "text/plain": [
              "<Figure size 432x288 with 10 Axes>"
            ]
          },
          "metadata": {
            "needs_background": "light"
          }
        }
      ]
    },
    {
      "cell_type": "code",
      "metadata": {
        "colab": {
          "base_uri": "https://localhost:8080/",
          "height": 607
        },
        "id": "uqQK8r09idlN",
        "outputId": "3678b9e5-8902-46f8-cbad-2e694db9725d"
      },
      "source": [
        "from utils import plot_curves\n",
        "from itertools import chain\n",
        "\n",
        "train_losses = list(chain.from_iterable(train_losses))\n",
        "test_losses = list(chain.from_iterable(test_losses))\n",
        "train_accuracies = list(chain.from_iterable(train_accuracies))\n",
        "test_accuracies = list(chain.from_iterable(test_accuracies))\n",
        "\n",
        "plot_curves(train_losses,test_losses,train_accuracies,test_accuracies)"
      ],
      "execution_count": null,
      "outputs": [
        {
          "output_type": "display_data",
          "data": {
            "image/png": "[encoded data removed]",
            "text/plain": [
              "<Figure size 1080x720 with 4 Axes>"
            ]
          },
          "metadata": {
            "needs_background": "light"
          }
        }
      ]
    },
    {
      "cell_type": "code",
      "metadata": {
        "id": "5sqi3ij-j6xS",
        "colab": {
          "base_uri": "https://localhost:8080/"
        },
        "outputId": "005d3a20-904b-4608-c904-a9f8995442bc"
      },
      "source": [
        "model = Net4('Batch',128).to(device)\n",
        "optimizer = optim.SGD(model.parameters(), lr=0.2, momentum=0.9)\n",
        "scheduler = optim.lr_scheduler.StepLR(optimizer,step_size = 4,gamma = 0.5,verbose = True) #0.2 0.1 0.05 0.025 0.0125\n",
        "\n",
        "train_accuracies = []\n",
        "train_losses = []\n",
        "test_accuracies = []\n",
        "test_losses = []\n",
        "\n",
        "for epoch in range(1, 21):\n",
        "\n",
        "    print(f\"Epoch {epoch}\")\n",
        "    scheduler.step()\n",
        "\n",
        "    x,y = train(model, device, train_loader, optimizer, epoch,L1 = True)\n",
        "    a,b = test(model, device, test_loader)\n",
        "\n",
        "    train_losses.append(x)\n",
        "    test_losses.append(a)\n",
        "    train_accuracies.append(y)\n",
        "    test_accuracies.append(b)"
      ],
      "execution_count": 3,
      "outputs": [
        {
          "output_type": "stream",
          "name": "stderr",
          "text": [
            "/usr/local/lib/python3.7/dist-packages/torch/optim/lr_scheduler.py:134: UserWarning: Detected call of `lr_scheduler.step()` before `optimizer.step()`. In PyTorch 1.1.0 and later, you should call them in the opposite order: `optimizer.step()` before `lr_scheduler.step()`.  Failure to do this will result in PyTorch skipping the first value of the learning rate schedule. See more details at https://pytorch.org/docs/stable/optim.html#how-to-adjust-learning-rate\n",
            "  \"https://pytorch.org/docs/stable/optim.html#how-to-adjust-learning-rate\", UserWarning)\n"
          ]
        },
        {
          "output_type": "stream",
          "name": "stdout",
          "text": [
            "Adjusting learning rate of group 0 to 2.0000e-01.\n",
            "Epoch 1\n",
            "Adjusting learning rate of group 0 to 2.0000e-01.\n"
          ]
        },
        {
          "output_type": "stream",
          "name": "stderr",
          "text": [
            "\r  0%|          | 0/468 [00:00<?, ?it/s]/usr/local/lib/python3.7/dist-packages/torch/nn/functional.py:718: UserWarning: Named tensors and all their associated APIs are an experimental feature and subject to change. Please do not use them for anything important until they are released as stable. (Triggered internally at  /pytorch/c10/core/TensorImpl.h:1156.)\n",
            "  return torch.max_pool2d(input, kernel_size, stride, padding, dilation, ceil_mode)\n",
            "Loss=0.28194016218185425 Batch_id=467 Train Accuracy=92.97: 100%|██████████| 468/468 [00:31<00:00, 15.00it/s]\n"
          ]
        },
        {
          "output_type": "stream",
          "name": "stdout",
          "text": [
            "\n",
            "Test set: Average loss: 0.0985, Test Accuracy: 9664/10000 (96.64%)\n",
            "\n",
            "Epoch 2\n",
            "Adjusting learning rate of group 0 to 2.0000e-01.\n"
          ]
        },
        {
          "output_type": "stream",
          "name": "stderr",
          "text": [
            "Loss=0.2026851326227188 Batch_id=467 Train Accuracy=97.59: 100%|██████████| 468/468 [00:31<00:00, 15.00it/s]\n"
          ]
        },
        {
          "output_type": "stream",
          "name": "stdout",
          "text": [
            "\n",
            "Test set: Average loss: 0.0668, Test Accuracy: 9763/10000 (97.63%)\n",
            "\n",
            "Epoch 3\n",
            "Adjusting learning rate of group 0 to 2.0000e-01.\n"
          ]
        },
        {
          "output_type": "stream",
          "name": "stderr",
          "text": [
            "Loss=0.1883464753627777 Batch_id=467 Train Accuracy=97.88: 100%|██████████| 468/468 [00:30<00:00, 15.12it/s]\n"
          ]
        },
        {
          "output_type": "stream",
          "name": "stdout",
          "text": [
            "\n",
            "Test set: Average loss: 0.0504, Test Accuracy: 9831/10000 (98.31%)\n",
            "\n",
            "Epoch 4\n",
            "Adjusting learning rate of group 0 to 1.0000e-01.\n"
          ]
        },
        {
          "output_type": "stream",
          "name": "stderr",
          "text": [
            "Loss=0.13064131140708923 Batch_id=467 Train Accuracy=98.52: 100%|██████████| 468/468 [00:31<00:00, 15.03it/s]\n"
          ]
        },
        {
          "output_type": "stream",
          "name": "stdout",
          "text": [
            "\n",
            "Test set: Average loss: 0.0392, Test Accuracy: 9857/10000 (98.57%)\n",
            "\n",
            "Epoch 5\n",
            "Adjusting learning rate of group 0 to 1.0000e-01.\n"
          ]
        },
        {
          "output_type": "stream",
          "name": "stderr",
          "text": [
            "Loss=0.16796311736106873 Batch_id=467 Train Accuracy=98.55: 100%|██████████| 468/468 [00:30<00:00, 15.17it/s]\n"
          ]
        },
        {
          "output_type": "stream",
          "name": "stdout",
          "text": [
            "\n",
            "Test set: Average loss: 0.0445, Test Accuracy: 9850/10000 (98.50%)\n",
            "\n",
            "Epoch 6\n",
            "Adjusting learning rate of group 0 to 1.0000e-01.\n"
          ]
        },
        {
          "output_type": "stream",
          "name": "stderr",
          "text": [
            "Loss=0.11580293625593185 Batch_id=467 Train Accuracy=98.57: 100%|██████████| 468/468 [00:31<00:00, 14.99it/s]\n"
          ]
        },
        {
          "output_type": "stream",
          "name": "stdout",
          "text": [
            "\n",
            "Test set: Average loss: 0.0291, Test Accuracy: 9890/10000 (98.90%)\n",
            "\n",
            "Epoch 7\n",
            "Adjusting learning rate of group 0 to 1.0000e-01.\n"
          ]
        },
        {
          "output_type": "stream",
          "name": "stderr",
          "text": [
            "Loss=0.1564520001411438 Batch_id=467 Train Accuracy=98.53: 100%|██████████| 468/468 [00:31<00:00, 15.01it/s]\n"
          ]
        },
        {
          "output_type": "stream",
          "name": "stdout",
          "text": [
            "\n",
            "Test set: Average loss: 0.0393, Test Accuracy: 9856/10000 (98.56%)\n",
            "\n",
            "Epoch 8\n",
            "Adjusting learning rate of group 0 to 5.0000e-02.\n"
          ]
        },
        {
          "output_type": "stream",
          "name": "stderr",
          "text": [
            "Loss=0.14548492431640625 Batch_id=467 Train Accuracy=98.97: 100%|██████████| 468/468 [00:31<00:00, 14.96it/s]\n"
          ]
        },
        {
          "output_type": "stream",
          "name": "stdout",
          "text": [
            "\n",
            "Test set: Average loss: 0.0254, Test Accuracy: 9908/10000 (99.08%)\n",
            "\n",
            "Epoch 9\n",
            "Adjusting learning rate of group 0 to 5.0000e-02.\n"
          ]
        },
        {
          "output_type": "stream",
          "name": "stderr",
          "text": [
            "Loss=0.08656994253396988 Batch_id=467 Train Accuracy=98.93: 100%|██████████| 468/468 [00:31<00:00, 15.02it/s]\n"
          ]
        },
        {
          "output_type": "stream",
          "name": "stdout",
          "text": [
            "\n",
            "Test set: Average loss: 0.0262, Test Accuracy: 9906/10000 (99.06%)\n",
            "\n",
            "Epoch 10\n",
            "Adjusting learning rate of group 0 to 5.0000e-02.\n"
          ]
        },
        {
          "output_type": "stream",
          "name": "stderr",
          "text": [
            "Loss=0.20480509102344513 Batch_id=467 Train Accuracy=98.99: 100%|██████████| 468/468 [00:31<00:00, 14.98it/s]\n"
          ]
        },
        {
          "output_type": "stream",
          "name": "stdout",
          "text": [
            "\n",
            "Test set: Average loss: 0.0257, Test Accuracy: 9902/10000 (99.02%)\n",
            "\n",
            "Epoch 11\n",
            "Adjusting learning rate of group 0 to 5.0000e-02.\n"
          ]
        },
        {
          "output_type": "stream",
          "name": "stderr",
          "text": [
            "Loss=0.11308068037033081 Batch_id=467 Train Accuracy=98.79: 100%|██████████| 468/468 [00:31<00:00, 14.86it/s]\n"
          ]
        },
        {
          "output_type": "stream",
          "name": "stdout",
          "text": [
            "\n",
            "Test set: Average loss: 0.0311, Test Accuracy: 9888/10000 (98.88%)\n",
            "\n",
            "Epoch 12\n",
            "Adjusting learning rate of group 0 to 2.5000e-02.\n"
          ]
        },
        {
          "output_type": "stream",
          "name": "stderr",
          "text": [
            "Loss=0.12420879304409027 Batch_id=467 Train Accuracy=99.09: 100%|██████████| 468/468 [00:31<00:00, 15.06it/s]\n"
          ]
        },
        {
          "output_type": "stream",
          "name": "stdout",
          "text": [
            "\n",
            "Test set: Average loss: 0.0249, Test Accuracy: 9902/10000 (99.02%)\n",
            "\n",
            "Epoch 13\n",
            "Adjusting learning rate of group 0 to 2.5000e-02.\n"
          ]
        },
        {
          "output_type": "stream",
          "name": "stderr",
          "text": [
            "Loss=0.13645869493484497 Batch_id=467 Train Accuracy=99.22: 100%|██████████| 468/468 [00:31<00:00, 15.03it/s]\n"
          ]
        },
        {
          "output_type": "stream",
          "name": "stdout",
          "text": [
            "\n",
            "Test set: Average loss: 0.0230, Test Accuracy: 9911/10000 (99.11%)\n",
            "\n",
            "Epoch 14\n",
            "Adjusting learning rate of group 0 to 2.5000e-02.\n"
          ]
        },
        {
          "output_type": "stream",
          "name": "stderr",
          "text": [
            "Loss=0.07726508378982544 Batch_id=467 Train Accuracy=99.21: 100%|██████████| 468/468 [00:31<00:00, 14.93it/s]\n"
          ]
        },
        {
          "output_type": "stream",
          "name": "stdout",
          "text": [
            "\n",
            "Test set: Average loss: 0.0213, Test Accuracy: 9915/10000 (99.15%)\n",
            "\n",
            "Epoch 15\n",
            "Adjusting learning rate of group 0 to 2.5000e-02.\n"
          ]
        },
        {
          "output_type": "stream",
          "name": "stderr",
          "text": [
            "Loss=0.09511987119913101 Batch_id=467 Train Accuracy=99.16: 100%|██████████| 468/468 [00:31<00:00, 14.95it/s]\n"
          ]
        },
        {
          "output_type": "stream",
          "name": "stdout",
          "text": [
            "\n",
            "Test set: Average loss: 0.0309, Test Accuracy: 9886/10000 (98.86%)\n",
            "\n",
            "Epoch 16\n",
            "Adjusting learning rate of group 0 to 1.2500e-02.\n"
          ]
        },
        {
          "output_type": "stream",
          "name": "stderr",
          "text": [
            "Loss=0.07844355702400208 Batch_id=467 Train Accuracy=99.30: 100%|██████████| 468/468 [00:31<00:00, 14.92it/s]\n"
          ]
        },
        {
          "output_type": "stream",
          "name": "stdout",
          "text": [
            "\n",
            "Test set: Average loss: 0.0210, Test Accuracy: 9913/10000 (99.13%)\n",
            "\n",
            "Epoch 17\n",
            "Adjusting learning rate of group 0 to 1.2500e-02.\n"
          ]
        },
        {
          "output_type": "stream",
          "name": "stderr",
          "text": [
            "Loss=0.12128569930791855 Batch_id=467 Train Accuracy=99.33: 100%|██████████| 468/468 [00:31<00:00, 15.04it/s]\n"
          ]
        },
        {
          "output_type": "stream",
          "name": "stdout",
          "text": [
            "\n",
            "Test set: Average loss: 0.0210, Test Accuracy: 9917/10000 (99.17%)\n",
            "\n",
            "Epoch 18\n",
            "Adjusting learning rate of group 0 to 1.2500e-02.\n"
          ]
        },
        {
          "output_type": "stream",
          "name": "stderr",
          "text": [
            "Loss=0.07943741232156754 Batch_id=467 Train Accuracy=99.34: 100%|██████████| 468/468 [00:31<00:00, 15.07it/s]\n"
          ]
        },
        {
          "output_type": "stream",
          "name": "stdout",
          "text": [
            "\n",
            "Test set: Average loss: 0.0208, Test Accuracy: 9919/10000 (99.19%)\n",
            "\n",
            "Epoch 19\n",
            "Adjusting learning rate of group 0 to 1.2500e-02.\n"
          ]
        },
        {
          "output_type": "stream",
          "name": "stderr",
          "text": [
            "Loss=0.06551399827003479 Batch_id=467 Train Accuracy=99.29: 100%|██████████| 468/468 [00:31<00:00, 14.80it/s]\n"
          ]
        },
        {
          "output_type": "stream",
          "name": "stdout",
          "text": [
            "\n",
            "Test set: Average loss: 0.0210, Test Accuracy: 9914/10000 (99.14%)\n",
            "\n",
            "Epoch 20\n",
            "Adjusting learning rate of group 0 to 6.2500e-03.\n"
          ]
        },
        {
          "output_type": "stream",
          "name": "stderr",
          "text": [
            "Loss=0.07373098284006119 Batch_id=467 Train Accuracy=99.40: 100%|██████████| 468/468 [00:31<00:00, 14.92it/s]\n"
          ]
        },
        {
          "output_type": "stream",
          "name": "stdout",
          "text": [
            "\n",
            "Test set: Average loss: 0.0178, Test Accuracy: 9924/10000 (99.24%)\n",
            "\n"
          ]
        }
      ]
    },
    {
      "cell_type": "code",
      "metadata": {
        "id": "gLQneYL4f8OS"
      },
      "source": [
        "incorrect_examples = []\n",
        "incorrect_labels = []\n",
        "incorrect_pred = []\n",
        "model.eval()\n",
        "for data,target in test_loader:\n",
        "\n",
        "  data , target = data.to(device), target.to(device)\n",
        "  output = model(data) # shape = torch.Size([batch_size, 10])\n",
        "  pred = output.argmax(dim=1, keepdim=True) #pred will be a 2d tensor of shape [batch_size,1]\n",
        "  idxs_mask = ((pred == target.view_as(pred))==False).view(-1)\n",
        "  if idxs_mask.numel(): #if index masks is non-empty append the correspoding data value in incorrect examples\n",
        "    incorrect_examples.append(data[idxs_mask].squeeze().cpu().numpy())\n",
        "    incorrect_labels.append(target[idxs_mask].cpu().numpy()) #the corresponding target to the misclassified image\n",
        "    incorrect_pred.append(pred[idxs_mask].squeeze().cpu().numpy()) #the corresponiding predicted class of the misclassified image"
      ],
      "execution_count": 4,
      "outputs": []
    },
    {
      "cell_type": "code",
      "metadata": {
        "id": "fo4NLMOHlC5w"
      },
      "source": [
        "ten_incorrect = [i for i in range(len(incorrect_examples)) if incorrect_examples[i].shape == (28,28)]\n",
        "\n",
        "imgs_g = [incorrect_examples[i] for i in ten_incorrect[:10]]\n",
        "labels_g = [incorrect_labels[i] for i in ten_incorrect[:10]]\n",
        "preds_g =  [incorrect_pred[i] for i in ten_incorrect[:10]]"
      ],
      "execution_count": 5,
      "outputs": []
    },
    {
      "cell_type": "code",
      "metadata": {
        "colab": {
          "base_uri": "https://localhost:8080/",
          "height": 248
        },
        "id": "HR1RR35nlI53",
        "outputId": "a744bca3-6c01-45c8-ece5-75ad822d4a6b"
      },
      "source": [
        "figure = plt.figure()\n",
        "num_of_images = 10\n",
        "for index in range(1, num_of_images + 1):\n",
        "    plt.subplot(5, 2, index)\n",
        "    plt.axis('off')\n",
        "    plt.imshow(imgs_g[index-1], cmap='gray')\n",
        "    \n",
        "\n",
        "# plt.imshow(incorrect_examples[83], interpolation='nearest',cmap = 'gray')\n",
        "# plt.show()"
      ],
      "execution_count": 6,
      "outputs": [
        {
          "output_type": "display_data",
          "data": {
            "image/png": "[encoded data removed]",
            "text/plain": [
              "<Figure size 432x288 with 10 Axes>"
            ]
          },
          "metadata": {
            "needs_background": "light"
          }
        }
      ]
    },
    {
      "cell_type": "code",
      "metadata": {
        "colab": {
          "base_uri": "https://localhost:8080/",
          "height": 607
        },
        "id": "pVpMoeMqlNtt",
        "outputId": "13f5debc-2cbe-42d5-ea39-207189888355"
      },
      "source": [
        "from utils import plot_curves\n",
        "from itertools import chain\n",
        "\n",
        "train_losses = list(chain.from_iterable(train_losses))\n",
        "test_losses = list(chain.from_iterable(test_losses))\n",
        "train_accuracies = list(chain.from_iterable(train_accuracies))\n",
        "test_accuracies = list(chain.from_iterable(test_accuracies))\n",
        "\n",
        "plot_curves(train_losses,test_losses,train_accuracies,test_accuracies)"
      ],
      "execution_count": 7,
      "outputs": [
        {
          "output_type": "display_data",
          "data": {
            "image/png": "[encoded data removed]",
            "text/plain": [
              "<Figure size 1080x720 with 4 Axes>"
            ]
          },
          "metadata": {
            "needs_background": "light"
          }
        }
      ]
    },
    {
      "cell_type": "code",
      "metadata": {
        "id": "NVdFW-eylQ9o"
      },
      "source": [
        ""
      ],
      "execution_count": null,
      "outputs": []
    }
  ]
}